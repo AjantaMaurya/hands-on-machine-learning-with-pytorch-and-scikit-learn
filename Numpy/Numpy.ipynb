{
 "cells": [
  {
   "cell_type": "code",
   "execution_count": 58,
   "id": "32931299",
   "metadata": {},
   "outputs": [],
   "source": [
    "import numpy as np"
   ]
  },
  {
   "cell_type": "markdown",
   "id": "76db2613",
   "metadata": {},
   "source": [
    "# Converting  a List to Array"
   ]
  },
  {
   "cell_type": "code",
   "execution_count": 59,
   "id": "24824203",
   "metadata": {},
   "outputs": [],
   "source": [
    "lst = [1, 2, 3, 4]"
   ]
  },
  {
   "cell_type": "code",
   "execution_count": 60,
   "id": "e4c92410",
   "metadata": {},
   "outputs": [
    {
     "name": "stdout",
     "output_type": "stream",
     "text": [
      "<class 'list'>\n"
     ]
    }
   ],
   "source": [
    "print(type(lst))"
   ]
  },
  {
   "cell_type": "code",
   "execution_count": 61,
   "id": "d71669c8",
   "metadata": {},
   "outputs": [],
   "source": [
    "arr = np.array(lst)"
   ]
  },
  {
   "cell_type": "code",
   "execution_count": 62,
   "id": "b6f91183",
   "metadata": {},
   "outputs": [
    {
     "name": "stdout",
     "output_type": "stream",
     "text": [
      "<class 'numpy.ndarray'>\n"
     ]
    }
   ],
   "source": [
    "print(type(arr))"
   ]
  },
  {
   "cell_type": "code",
   "execution_count": 63,
   "id": "fec1e996",
   "metadata": {},
   "outputs": [
    {
     "data": {
      "text/plain": [
       "array([1, 2, 3, 4])"
      ]
     },
     "execution_count": 63,
     "metadata": {},
     "output_type": "execute_result"
    }
   ],
   "source": [
    "arr"
   ]
  },
  {
   "cell_type": "code",
   "execution_count": 64,
   "id": "8cc6b0a4",
   "metadata": {},
   "outputs": [],
   "source": [
    "arr = np.array(lst, ndmin = 1)"
   ]
  },
  {
   "cell_type": "code",
   "execution_count": 65,
   "id": "a627144e",
   "metadata": {},
   "outputs": [
    {
     "data": {
      "text/plain": [
       "array([1, 2, 3, 4])"
      ]
     },
     "execution_count": 65,
     "metadata": {},
     "output_type": "execute_result"
    }
   ],
   "source": [
    "arr"
   ]
  },
  {
   "cell_type": "code",
   "execution_count": 66,
   "id": "61530929",
   "metadata": {},
   "outputs": [],
   "source": [
    "arr = np.array(lst, ndmin = 4)#ndmin means n dimensions"
   ]
  },
  {
   "cell_type": "code",
   "execution_count": 67,
   "id": "482fbb39",
   "metadata": {},
   "outputs": [
    {
     "data": {
      "text/plain": [
       "array([[[[1, 2, 3, 4]]]])"
      ]
     },
     "execution_count": 67,
     "metadata": {},
     "output_type": "execute_result"
    }
   ],
   "source": [
    "arr"
   ]
  },
  {
   "cell_type": "markdown",
   "id": "0ff6372d",
   "metadata": {},
   "source": [
    "## 2. Arrange function\n",
    "\n",
    "The arange([start,], stop[, step,][, dtype]) : Returns an array with evenly spaced elements as per the interval. The interval mention is halp-opened i.e. [Start, Stop]"
   ]
  },
  {
   "cell_type": "code",
   "execution_count": 68,
   "id": "40b5ccc9",
   "metadata": {},
   "outputs": [
    {
     "data": {
      "text/plain": [
       "array([1, 2, 3, 4, 5, 6, 7, 8, 9])"
      ]
     },
     "execution_count": 68,
     "metadata": {},
     "output_type": "execute_result"
    }
   ],
   "source": [
    "np.arange(1,10)# same as for loop : for i in range(1,10)"
   ]
  },
  {
   "cell_type": "code",
   "execution_count": 69,
   "id": "02cc4eba",
   "metadata": {},
   "outputs": [
    {
     "data": {
      "text/plain": [
       "array([1, 3, 5, 7, 9])"
      ]
     },
     "execution_count": 69,
     "metadata": {},
     "output_type": "execute_result"
    }
   ],
   "source": [
    "np.arange(1, 10, 2)"
   ]
  },
  {
   "cell_type": "markdown",
   "id": "ec96b0a6",
   "metadata": {},
   "source": [
    "# 3. Multidimensional Array"
   ]
  },
  {
   "cell_type": "code",
   "execution_count": 70,
   "id": "7a747a41",
   "metadata": {},
   "outputs": [],
   "source": [
    "arr = np.array([[1,2,3],[4,5,6],[7,8,9]])"
   ]
  },
  {
   "cell_type": "code",
   "execution_count": 71,
   "id": "67dfb1bc",
   "metadata": {},
   "outputs": [
    {
     "data": {
      "text/plain": [
       "array([[1, 2, 3],\n",
       "       [4, 5, 6],\n",
       "       [7, 8, 9]])"
      ]
     },
     "execution_count": 71,
     "metadata": {},
     "output_type": "execute_result"
    }
   ],
   "source": [
    "arr"
   ]
  },
  {
   "cell_type": "markdown",
   "id": "629b1ec7",
   "metadata": {},
   "source": [
    "# 4. Size function"
   ]
  },
  {
   "cell_type": "code",
   "execution_count": 72,
   "id": "4112ee49",
   "metadata": {},
   "outputs": [
    {
     "name": "stdout",
     "output_type": "stream",
     "text": [
      "Total size: 12\n",
      "Rows : 4\n",
      "Cols : 3\n"
     ]
    }
   ],
   "source": [
    "arr = np.array([[1,2,3],[4,5,6],[7,8,9],[10,11,12]])\n",
    "\n",
    "print('Total size:', arr.size)\n",
    "print('Rows :', np.size(arr,0))\n",
    "print('Cols :', np.size(arr,1))"
   ]
  },
  {
   "cell_type": "markdown",
   "id": "a0a1ad4a",
   "metadata": {},
   "source": [
    "# 5. Shape function\n",
    "\n",
    "The shape of an array can be defined as the number of elements in each dimension. Dimension is the number of indices or subscripts, that we require in order to specify an individual element of an array."
   ]
  },
  {
   "cell_type": "code",
   "execution_count": 73,
   "id": "bc2ba57b",
   "metadata": {},
   "outputs": [
    {
     "name": "stdout",
     "output_type": "stream",
     "text": [
      "(4, 3)\n",
      "(4, 3)\n"
     ]
    }
   ],
   "source": [
    "arr = np.array([[1,2,3],[4,5,6],[7,8,9],[10,11,12]])\n",
    "\n",
    "\n",
    "print((np.size(arr,0), np.size(arr,1)))\n",
    "\n",
    "print(arr.shape)"
   ]
  },
  {
   "cell_type": "markdown",
   "id": "105d770e",
   "metadata": {},
   "source": [
    "# 6. Dtype Function\n",
    "\n",
    "Every ndarray has an associated data type (dtype) object. This data type object (dtype) informs us about the layout of the array. This means it gives us information about:\n",
    "\n",
    "    \n",
    "<li>The type of data(integer, float, python object, etc.)\n",
    "</li>\n",
    "    \n",
    "<li>Size of the data(number of bytes)\n",
    "</li>\n",
    "<li>The byte order of the data(little-endian or big-endian)\n",
    "</li>\n",
    "<li>If the data type is a sub-array, what is its shape and data type?\n",
    "    \n",
    "</li>"
   ]
  },
  {
   "cell_type": "code",
   "execution_count": 74,
   "id": "a6a0d543",
   "metadata": {},
   "outputs": [
    {
     "name": "stdout",
     "output_type": "stream",
     "text": [
      "int32\n",
      "float64\n"
     ]
    }
   ],
   "source": [
    "arr1 = np.array([1,2,3,1,2,3])\n",
    "arr2 = np.array([1.2,3.1,2.3])\n",
    "\n",
    "print(arr1.dtype)\n",
    "print(arr2.dtype)\n"
   ]
  },
  {
   "cell_type": "markdown",
   "id": "f884b2cf",
   "metadata": {},
   "source": [
    "# 7. Ndim Function\n",
    "\n",
    "numpy.ndarray.ndim() function return the number of dimensions of an array"
   ]
  },
  {
   "cell_type": "code",
   "execution_count": 75,
   "id": "e618cd6d",
   "metadata": {},
   "outputs": [
    {
     "name": "stdout",
     "output_type": "stream",
     "text": [
      "1\n",
      "2\n",
      "3\n"
     ]
    }
   ],
   "source": [
    "arr1 = np.array([1,2,3,1,2,3])\n",
    "arr2 = np.array([[1.2,3.1,2.3],[1,2,3]])\n",
    "\n",
    "print(arr1.ndim)\n",
    "print(arr2.ndim)\n",
    "\n",
    "arr3 = np.array(arr1, ndmin = 3)\n",
    "print(arr3.ndim)"
   ]
  },
  {
   "cell_type": "markdown",
   "id": "1974d142",
   "metadata": {},
   "source": [
    "# 8. Zeros Function\n",
    "\n",
    "The numpy.zeros() function returns a new array of given shape and type, with zeros, Syntax:\n",
    "\n",
    "numpy.zeros(shape, dtype=None)"
   ]
  },
  {
   "cell_type": "code",
   "execution_count": 76,
   "id": "b6cf6289",
   "metadata": {},
   "outputs": [
    {
     "name": "stdout",
     "output_type": "stream",
     "text": [
      "[[0 0 0 0 0]\n",
      " [0 0 0 0 0]\n",
      " [0 0 0 0 0]]\n"
     ]
    }
   ],
   "source": [
    "arr = np.zeros(shape = (3, 5), dtype = int)\n",
    "print(arr)"
   ]
  },
  {
   "cell_type": "markdown",
   "id": "f2f4716e",
   "metadata": {},
   "source": [
    "# Ones Function\n",
    "\n",
    "The numpy.ones() function returns a new array of given shape and type, with ones.\n",
    "\n",
    "Syntax: numpy.ones(shape, dtype = None)"
   ]
  },
  {
   "cell_type": "code",
   "execution_count": 77,
   "id": "28263eb5",
   "metadata": {},
   "outputs": [
    {
     "name": "stdout",
     "output_type": "stream",
     "text": [
      "[[1 1 1 1 1]\n",
      " [1 1 1 1 1]\n",
      " [1 1 1 1 1]]\n"
     ]
    }
   ],
   "source": [
    "arr = np.ones(shape = (3, 5), dtype = int)\n",
    "print(arr)"
   ]
  },
  {
   "cell_type": "markdown",
   "id": "09d3ec22",
   "metadata": {},
   "source": [
    "# 9. Eye Function\n",
    "\n",
    "The eye tool returns a 2-D array with 1's as the diagonal and 0's else where. The diagonal can be main, upper, or lower depending on the optional parameter k."
   ]
  },
  {
   "cell_type": "code",
   "execution_count": 78,
   "id": "17cc3ba7",
   "metadata": {},
   "outputs": [
    {
     "data": {
      "text/plain": [
       "array([[1, 0, 0, 0],\n",
       "       [0, 1, 0, 0],\n",
       "       [0, 0, 1, 0],\n",
       "       [0, 0, 0, 1]])"
      ]
     },
     "execution_count": 78,
     "metadata": {},
     "output_type": "execute_result"
    }
   ],
   "source": [
    "np.eye(4, dtype = int)#identity matrix"
   ]
  },
  {
   "cell_type": "markdown",
   "id": "16437a69",
   "metadata": {},
   "source": [
    "# 10. Empty Function\n",
    "\n",
    "Return an empty array of given shape and type"
   ]
  },
  {
   "cell_type": "code",
   "execution_count": 79,
   "id": "d4a5aeb1",
   "metadata": {},
   "outputs": [
    {
     "data": {
      "text/plain": [
       "array([[6.23042070e-307, 4.67296746e-307, 1.69121096e-306,\n",
       "        7.56597091e-307, 7.56587585e-307],\n",
       "       [1.37961302e-306, 1.05699242e-307, 8.01097889e-307,\n",
       "        1.78020169e-306, 7.56601165e-307],\n",
       "       [1.02359984e-306, 1.33510679e-306, 2.22522597e-306,\n",
       "        1.33511018e-306, 6.23057689e-307],\n",
       "       [8.45597329e-307, 8.45559303e-307, 9.45697982e-308,\n",
       "        1.33511562e-306, 8.90103560e-307],\n",
       "       [1.42410974e-306, 1.00132228e-307, 1.33511018e-306,\n",
       "        1.69119330e-306, 1.25162314e-308]])"
      ]
     },
     "execution_count": 79,
     "metadata": {},
     "output_type": "execute_result"
    }
   ],
   "source": [
    "np.empty(shape = (5,5))"
   ]
  },
  {
   "cell_type": "markdown",
   "id": "8f3b934a",
   "metadata": {},
   "source": [
    "# 11. Random Functions\n",
    "\n",
    "## a) np.random.rand\n",
    "The numpy.random.rand() function creates an array of specified shape and fills it with random values.\n"
   ]
  },
  {
   "cell_type": "code",
   "execution_count": 80,
   "id": "83b89cc5",
   "metadata": {},
   "outputs": [
    {
     "data": {
      "text/plain": [
       "array([[0.44080984, 0.02987621, 0.45683322, 0.64914405],\n",
       "       [0.27848728, 0.6762549 , 0.59086282, 0.02398188],\n",
       "       [0.55885409, 0.25925245, 0.4151012 , 0.28352508]])"
      ]
     },
     "execution_count": 80,
     "metadata": {},
     "output_type": "execute_result"
    }
   ],
   "source": [
    "np.random.rand(3,4)"
   ]
  },
  {
   "cell_type": "markdown",
   "id": "65263a12",
   "metadata": {},
   "source": [
    "## b) np.random.randit\n",
    "numpy.random.randint() is one of the function for doing random sampling in numpy. It returns an array of specified shape and fills it with random integers from low (inclusive) to high (exclusive), i.e. in the interval [low, high)."
   ]
  },
  {
   "cell_type": "code",
   "execution_count": 81,
   "id": "775a8193",
   "metadata": {},
   "outputs": [
    {
     "data": {
      "text/plain": [
       "array([9, 8, 9, 2, 1, 6, 5, 2, 6, 5, 8, 7, 1, 1, 3, 5, 6, 9, 9, 8])"
      ]
     },
     "execution_count": 81,
     "metadata": {},
     "output_type": "execute_result"
    }
   ],
   "source": [
    "np.random.randint(low = 1, high = 10, size = 20)"
   ]
  },
  {
   "cell_type": "markdown",
   "id": "cfc3b805",
   "metadata": {},
   "source": [
    "## c) np.random.randn\n",
    "\n",
    "The numpy.random.randn() function creates an array of specified shape and fills it with random values as per standard normal distribution"
   ]
  },
  {
   "cell_type": "code",
   "execution_count": 82,
   "id": "c8895c6a",
   "metadata": {},
   "outputs": [
    {
     "data": {
      "text/plain": [
       "(array([1.000e+00, 0.000e+00, 0.000e+00, 0.000e+00, 0.000e+00, 0.000e+00,\n",
       "        0.000e+00, 0.000e+00, 0.000e+00, 0.000e+00, 0.000e+00, 0.000e+00,\n",
       "        0.000e+00, 0.000e+00, 0.000e+00, 0.000e+00, 0.000e+00, 0.000e+00,\n",
       "        0.000e+00, 0.000e+00, 0.000e+00, 0.000e+00, 0.000e+00, 0.000e+00,\n",
       "        1.000e+00, 0.000e+00, 0.000e+00, 0.000e+00, 1.000e+00, 1.000e+00,\n",
       "        0.000e+00, 1.000e+00, 1.000e+00, 2.000e+00, 3.000e+00, 1.000e+00,\n",
       "        1.000e+00, 2.000e+00, 3.000e+00, 2.000e+00, 4.000e+00, 2.000e+00,\n",
       "        2.000e+00, 5.000e+00, 1.000e+00, 1.000e+00, 4.000e+00, 7.000e+00,\n",
       "        4.000e+00, 7.000e+00, 5.000e+00, 7.000e+00, 8.000e+00, 9.000e+00,\n",
       "        1.100e+01, 1.200e+01, 2.000e+01, 1.400e+01, 1.400e+01, 1.600e+01,\n",
       "        2.100e+01, 2.000e+01, 2.300e+01, 1.500e+01, 3.300e+01, 2.700e+01,\n",
       "        2.700e+01, 4.000e+01, 4.000e+01, 4.200e+01, 5.000e+01, 5.700e+01,\n",
       "        5.800e+01, 5.200e+01, 6.900e+01, 6.800e+01, 7.800e+01, 8.100e+01,\n",
       "        9.700e+01, 8.900e+01, 9.700e+01, 1.370e+02, 1.250e+02, 1.250e+02,\n",
       "        1.420e+02, 1.310e+02, 1.700e+02, 1.690e+02, 1.990e+02, 2.030e+02,\n",
       "        1.870e+02, 2.150e+02, 2.320e+02, 2.390e+02, 2.830e+02, 2.650e+02,\n",
       "        3.100e+02, 3.020e+02, 3.340e+02, 3.400e+02, 3.720e+02, 3.960e+02,\n",
       "        3.880e+02, 4.200e+02, 4.390e+02, 4.540e+02, 4.850e+02, 4.980e+02,\n",
       "        5.380e+02, 5.520e+02, 5.760e+02, 5.830e+02, 5.950e+02, 6.390e+02,\n",
       "        7.010e+02, 6.780e+02, 7.100e+02, 7.230e+02, 8.160e+02, 8.210e+02,\n",
       "        8.860e+02, 8.630e+02, 9.180e+02, 9.320e+02, 9.270e+02, 9.390e+02,\n",
       "        9.270e+02, 1.043e+03, 1.109e+03, 1.082e+03, 1.074e+03, 1.064e+03,\n",
       "        1.174e+03, 1.120e+03, 1.199e+03, 1.185e+03, 1.200e+03, 1.211e+03,\n",
       "        1.222e+03, 1.297e+03, 1.235e+03, 1.263e+03, 1.349e+03, 1.391e+03,\n",
       "        1.250e+03, 1.260e+03, 1.281e+03, 1.304e+03, 1.365e+03, 1.370e+03,\n",
       "        1.323e+03, 1.303e+03, 1.337e+03, 1.279e+03, 1.258e+03, 1.252e+03,\n",
       "        1.285e+03, 1.231e+03, 1.250e+03, 1.260e+03, 1.237e+03, 1.226e+03,\n",
       "        1.191e+03, 1.172e+03, 1.115e+03, 1.127e+03, 1.103e+03, 1.123e+03,\n",
       "        1.104e+03, 1.018e+03, 1.013e+03, 9.890e+02, 9.760e+02, 9.200e+02,\n",
       "        9.070e+02, 8.930e+02, 8.580e+02, 8.590e+02, 8.440e+02, 8.010e+02,\n",
       "        7.340e+02, 7.180e+02, 7.230e+02, 7.350e+02, 6.380e+02, 6.950e+02,\n",
       "        6.130e+02, 5.680e+02, 5.400e+02, 5.170e+02, 5.340e+02, 5.380e+02,\n",
       "        5.190e+02, 4.670e+02, 4.290e+02, 4.320e+02, 3.990e+02, 3.510e+02,\n",
       "        3.740e+02, 3.340e+02, 3.000e+02, 3.160e+02, 2.920e+02, 2.460e+02,\n",
       "        2.730e+02, 2.210e+02, 2.350e+02, 2.160e+02, 1.790e+02, 1.870e+02,\n",
       "        1.690e+02, 1.710e+02, 1.480e+02, 1.370e+02, 1.500e+02, 1.180e+02,\n",
       "        1.160e+02, 1.090e+02, 9.400e+01, 8.700e+01, 9.300e+01, 9.100e+01,\n",
       "        8.100e+01, 6.400e+01, 5.600e+01, 4.600e+01, 4.500e+01, 4.000e+01,\n",
       "        4.200e+01, 2.500e+01, 3.400e+01, 3.000e+01, 4.000e+01, 1.600e+01,\n",
       "        2.800e+01, 2.600e+01, 2.100e+01, 1.300e+01, 1.600e+01, 1.400e+01,\n",
       "        1.100e+01, 8.000e+00, 7.000e+00, 8.000e+00, 6.000e+00, 3.000e+00,\n",
       "        6.000e+00, 6.000e+00, 7.000e+00, 9.000e+00, 5.000e+00, 7.000e+00,\n",
       "        4.000e+00, 4.000e+00, 2.000e+00, 3.000e+00, 1.000e+00, 0.000e+00,\n",
       "        4.000e+00, 2.000e+00, 1.000e+00, 1.000e+00, 0.000e+00, 1.000e+00,\n",
       "        0.000e+00, 2.000e+00, 0.000e+00, 1.000e+00, 0.000e+00, 1.000e+00,\n",
       "        0.000e+00, 1.000e+00, 0.000e+00, 0.000e+00, 0.000e+00, 0.000e+00,\n",
       "        0.000e+00, 1.000e+00, 0.000e+00, 0.000e+00, 1.000e+00, 0.000e+00,\n",
       "        0.000e+00, 0.000e+00, 0.000e+00, 0.000e+00, 0.000e+00, 0.000e+00,\n",
       "        0.000e+00, 0.000e+00, 0.000e+00, 0.000e+00, 0.000e+00, 0.000e+00,\n",
       "        0.000e+00, 0.000e+00, 0.000e+00, 0.000e+00, 0.000e+00, 1.000e+00]),\n",
       " array([-4.90148484e+00, -4.86861817e+00, -4.83575150e+00, -4.80288483e+00,\n",
       "        -4.77001816e+00, -4.73715149e+00, -4.70428482e+00, -4.67141815e+00,\n",
       "        -4.63855148e+00, -4.60568481e+00, -4.57281814e+00, -4.53995147e+00,\n",
       "        -4.50708480e+00, -4.47421813e+00, -4.44135146e+00, -4.40848479e+00,\n",
       "        -4.37561812e+00, -4.34275145e+00, -4.30988478e+00, -4.27701811e+00,\n",
       "        -4.24415144e+00, -4.21128478e+00, -4.17841811e+00, -4.14555144e+00,\n",
       "        -4.11268477e+00, -4.07981810e+00, -4.04695143e+00, -4.01408476e+00,\n",
       "        -3.98121809e+00, -3.94835142e+00, -3.91548475e+00, -3.88261808e+00,\n",
       "        -3.84975141e+00, -3.81688474e+00, -3.78401807e+00, -3.75115140e+00,\n",
       "        -3.71828473e+00, -3.68541806e+00, -3.65255139e+00, -3.61968472e+00,\n",
       "        -3.58681805e+00, -3.55395138e+00, -3.52108472e+00, -3.48821805e+00,\n",
       "        -3.45535138e+00, -3.42248471e+00, -3.38961804e+00, -3.35675137e+00,\n",
       "        -3.32388470e+00, -3.29101803e+00, -3.25815136e+00, -3.22528469e+00,\n",
       "        -3.19241802e+00, -3.15955135e+00, -3.12668468e+00, -3.09381801e+00,\n",
       "        -3.06095134e+00, -3.02808467e+00, -2.99521800e+00, -2.96235133e+00,\n",
       "        -2.92948466e+00, -2.89661799e+00, -2.86375132e+00, -2.83088465e+00,\n",
       "        -2.79801799e+00, -2.76515132e+00, -2.73228465e+00, -2.69941798e+00,\n",
       "        -2.66655131e+00, -2.63368464e+00, -2.60081797e+00, -2.56795130e+00,\n",
       "        -2.53508463e+00, -2.50221796e+00, -2.46935129e+00, -2.43648462e+00,\n",
       "        -2.40361795e+00, -2.37075128e+00, -2.33788461e+00, -2.30501794e+00,\n",
       "        -2.27215127e+00, -2.23928460e+00, -2.20641793e+00, -2.17355126e+00,\n",
       "        -2.14068459e+00, -2.10781793e+00, -2.07495126e+00, -2.04208459e+00,\n",
       "        -2.00921792e+00, -1.97635125e+00, -1.94348458e+00, -1.91061791e+00,\n",
       "        -1.87775124e+00, -1.84488457e+00, -1.81201790e+00, -1.77915123e+00,\n",
       "        -1.74628456e+00, -1.71341789e+00, -1.68055122e+00, -1.64768455e+00,\n",
       "        -1.61481788e+00, -1.58195121e+00, -1.54908454e+00, -1.51621787e+00,\n",
       "        -1.48335120e+00, -1.45048453e+00, -1.41761787e+00, -1.38475120e+00,\n",
       "        -1.35188453e+00, -1.31901786e+00, -1.28615119e+00, -1.25328452e+00,\n",
       "        -1.22041785e+00, -1.18755118e+00, -1.15468451e+00, -1.12181784e+00,\n",
       "        -1.08895117e+00, -1.05608450e+00, -1.02321783e+00, -9.90351162e-01,\n",
       "        -9.57484492e-01, -9.24617822e-01, -8.91751153e-01, -8.58884483e-01,\n",
       "        -8.26017814e-01, -7.93151144e-01, -7.60284475e-01, -7.27417805e-01,\n",
       "        -6.94551136e-01, -6.61684466e-01, -6.28817797e-01, -5.95951127e-01,\n",
       "        -5.63084458e-01, -5.30217788e-01, -4.97351119e-01, -4.64484449e-01,\n",
       "        -4.31617780e-01, -3.98751110e-01, -3.65884441e-01, -3.33017771e-01,\n",
       "        -3.00151101e-01, -2.67284432e-01, -2.34417762e-01, -2.01551093e-01,\n",
       "        -1.68684423e-01, -1.35817754e-01, -1.02951084e-01, -7.00844148e-02,\n",
       "        -3.72177453e-02, -4.35107574e-03,  2.85155938e-02,  6.13822633e-02,\n",
       "         9.42489328e-02,  1.27115602e-01,  1.59982272e-01,  1.92848941e-01,\n",
       "         2.25715611e-01,  2.58582280e-01,  2.91448950e-01,  3.24315620e-01,\n",
       "         3.57182289e-01,  3.90048959e-01,  4.22915628e-01,  4.55782298e-01,\n",
       "         4.88648967e-01,  5.21515637e-01,  5.54382306e-01,  5.87248976e-01,\n",
       "         6.20115645e-01,  6.52982315e-01,  6.85848984e-01,  7.18715654e-01,\n",
       "         7.51582323e-01,  7.84448993e-01,  8.17315662e-01,  8.50182332e-01,\n",
       "         8.83049001e-01,  9.15915671e-01,  9.48782341e-01,  9.81649010e-01,\n",
       "         1.01451568e+00,  1.04738235e+00,  1.08024902e+00,  1.11311569e+00,\n",
       "         1.14598236e+00,  1.17884903e+00,  1.21171570e+00,  1.24458237e+00,\n",
       "         1.27744904e+00,  1.31031571e+00,  1.34318237e+00,  1.37604904e+00,\n",
       "         1.40891571e+00,  1.44178238e+00,  1.47464905e+00,  1.50751572e+00,\n",
       "         1.54038239e+00,  1.57324906e+00,  1.60611573e+00,  1.63898240e+00,\n",
       "         1.67184907e+00,  1.70471574e+00,  1.73758241e+00,  1.77044908e+00,\n",
       "         1.80331575e+00,  1.83618242e+00,  1.86904909e+00,  1.90191576e+00,\n",
       "         1.93478243e+00,  1.96764910e+00,  2.00051577e+00,  2.03338243e+00,\n",
       "         2.06624910e+00,  2.09911577e+00,  2.13198244e+00,  2.16484911e+00,\n",
       "         2.19771578e+00,  2.23058245e+00,  2.26344912e+00,  2.29631579e+00,\n",
       "         2.32918246e+00,  2.36204913e+00,  2.39491580e+00,  2.42778247e+00,\n",
       "         2.46064914e+00,  2.49351581e+00,  2.52638248e+00,  2.55924915e+00,\n",
       "         2.59211582e+00,  2.62498249e+00,  2.65784916e+00,  2.69071583e+00,\n",
       "         2.72358249e+00,  2.75644916e+00,  2.78931583e+00,  2.82218250e+00,\n",
       "         2.85504917e+00,  2.88791584e+00,  2.92078251e+00,  2.95364918e+00,\n",
       "         2.98651585e+00,  3.01938252e+00,  3.05224919e+00,  3.08511586e+00,\n",
       "         3.11798253e+00,  3.15084920e+00,  3.18371587e+00,  3.21658254e+00,\n",
       "         3.24944921e+00,  3.28231588e+00,  3.31518255e+00,  3.34804922e+00,\n",
       "         3.38091589e+00,  3.41378255e+00,  3.44664922e+00,  3.47951589e+00,\n",
       "         3.51238256e+00,  3.54524923e+00,  3.57811590e+00,  3.61098257e+00,\n",
       "         3.64384924e+00,  3.67671591e+00,  3.70958258e+00,  3.74244925e+00,\n",
       "         3.77531592e+00,  3.80818259e+00,  3.84104926e+00,  3.87391593e+00,\n",
       "         3.90678260e+00,  3.93964927e+00,  3.97251594e+00,  4.00538261e+00,\n",
       "         4.03824928e+00,  4.07111595e+00,  4.10398261e+00,  4.13684928e+00,\n",
       "         4.16971595e+00,  4.20258262e+00,  4.23544929e+00,  4.26831596e+00,\n",
       "         4.30118263e+00,  4.33404930e+00,  4.36691597e+00,  4.39978264e+00,\n",
       "         4.43264931e+00,  4.46551598e+00,  4.49838265e+00,  4.53124932e+00,\n",
       "         4.56411599e+00,  4.59698266e+00,  4.62984933e+00,  4.66271600e+00,\n",
       "         4.69558267e+00,  4.72844934e+00,  4.76131601e+00,  4.79418268e+00,\n",
       "         4.82704934e+00,  4.85991601e+00,  4.89278268e+00,  4.92564935e+00,\n",
       "         4.95851602e+00]),\n",
       " <BarContainer object of 300 artists>)"
      ]
     },
     "execution_count": 82,
     "metadata": {},
     "output_type": "execute_result"
    },
    {
     "data": {
      "image/png": "[encoded data removed]",
      "text/plain": [
       "<Figure size 640x480 with 1 Axes>"
      ]
     },
     "metadata": {},
     "output_type": "display_data"
    }
   ],
   "source": [
    "import matplotlib.pyplot as plt\n",
    "\n",
    "%matplotlib inline\n",
    "\n",
    "plt.hist(np.random.randn(100000), bins = 300)"
   ]
  },
  {
   "cell_type": "code",
   "execution_count": 83,
   "id": "217cd549",
   "metadata": {},
   "outputs": [
    {
     "name": "stdout",
     "output_type": "stream",
     "text": [
      "[ 0.32051946 -1.18256715  0.33518734 -0.12968099  0.83420218 -1.48430913\n",
      " -1.58604787  1.56010313 -1.10982593 -1.09274929 -1.15208123  0.07376152\n",
      "  0.26804621 -0.42393764  0.04409183]\n"
     ]
    }
   ],
   "source": [
    "print(np.random.randn(15))"
   ]
  },
  {
   "cell_type": "markdown",
   "id": "11541328",
   "metadata": {},
   "source": [
    "## 12. Reshape function - will not alter the original data\n",
    "\n",
    "The numpy.reshape() function shapes an array without changing the data of the array. <br> It shoud be noted that the product of the rows and columns should be same."
   ]
  },
  {
   "cell_type": "code",
   "execution_count": 84,
   "id": "6d001533",
   "metadata": {},
   "outputs": [
    {
     "name": "stdout",
     "output_type": "stream",
     "text": [
      "(3, 4)\n",
      "(4, 3)\n",
      "(6, 2)\n"
     ]
    }
   ],
   "source": [
    "arr = np.random.randint(1, 15, (3,4))\n",
    "\n",
    "print(arr.shape)\n",
    "arr = arr.reshape(4,3)\n",
    "print(arr.shape)\n",
    "arr = arr.reshape(6,2)\n",
    "print(arr.shape)"
   ]
  },
  {
   "cell_type": "markdown",
   "id": "a2df3e71",
   "metadata": {},
   "source": [
    "# 13. Linspace Function\n",
    "\n",
    "The numpy.linspace() function returns number spaces evenly w.r.t interval. Similar to numpy.arange() function but instead of step it uses sample number.\n",
    "\n",
    "Parameters:\n",
    "<li> => start: [optional] start of interval range. By default start = 0</li>\n",
    "<li> => stop: end of interval range</li>\n",
    "<li> => restep: if True, return (samples, step). By default restep = False</li>\n",
    "<li> => num: [int, optional] No. of samples to generate</li>\n",
    "<li> => dtype: type of output array</li>"
   ]
  },
  {
   "cell_type": "code",
   "execution_count": 85,
   "id": "efa096fa",
   "metadata": {},
   "outputs": [
    {
     "data": {
      "text/plain": [
       "array([ 1.  ,  3.25,  5.5 ,  7.75, 10.  ])"
      ]
     },
     "execution_count": 85,
     "metadata": {},
     "output_type": "execute_result"
    }
   ],
   "source": [
    "np.linspace(1,10,5)"
   ]
  },
  {
   "cell_type": "code",
   "execution_count": 86,
   "id": "165d73fc",
   "metadata": {},
   "outputs": [
    {
     "data": {
      "text/plain": [
       "array([ 1.        ,  1.65517241,  2.31034483,  2.96551724,  3.62068966,\n",
       "        4.27586207,  4.93103448,  5.5862069 ,  6.24137931,  6.89655172,\n",
       "        7.55172414,  8.20689655,  8.86206897,  9.51724138, 10.17241379,\n",
       "       10.82758621, 11.48275862, 12.13793103, 12.79310345, 13.44827586,\n",
       "       14.10344828, 14.75862069, 15.4137931 , 16.06896552, 16.72413793,\n",
       "       17.37931034, 18.03448276, 18.68965517, 19.34482759, 20.        ])"
      ]
     },
     "execution_count": 86,
     "metadata": {},
     "output_type": "execute_result"
    }
   ],
   "source": [
    "np.linspace(1, 20, 30)"
   ]
  },
  {
   "cell_type": "markdown",
   "id": "ef555085",
   "metadata": {},
   "source": [
    "# 14. Flatten Function\n",
    "\n",
    "ndarray.flatten() function return a copy of the array collapsed into one dimension"
   ]
  },
  {
   "cell_type": "code",
   "execution_count": 87,
   "id": "eab4c74c",
   "metadata": {},
   "outputs": [
    {
     "name": "stdout",
     "output_type": "stream",
     "text": [
      "(3, 4)\n",
      "[[ 7  3  3  5]\n",
      " [ 3 14  2 13]\n",
      " [10  5 12  5]]\n",
      "--------------------\n",
      "(12,)\n",
      "[ 7  3  3  5  3 14  2 13 10  5 12  5]\n"
     ]
    }
   ],
   "source": [
    "arr = np.random.randint(1,15,(3,4))\n",
    "\n",
    "print(arr.shape)\n",
    "print(arr)\n",
    "print('-'*20)\n",
    "arr = arr.flatten()\n",
    "print(arr.shape)\n",
    "print(arr)"
   ]
  },
  {
   "cell_type": "markdown",
   "id": "80c9f64a",
   "metadata": {},
   "source": [
    "# 15. Logspace Function\n",
    "\n",
    "The numpy.logspace() function returns number spaces evenly w.r.t interval on a log scale.\n",
    "\n",
    "Parameters:\n",
    "<li> => start: [float] start(base ** start) of interval range </li>\n",
    "<li> => stop: [float] end(base ** stop) of interval range</li>\n",
    "<li> => endpoint: [boolean, optional] if True, stop is the last sample. By default, True</li>\n",
    "<li> => num: [int, optional] No. of samples to generate</li>\n",
    "<li> => base: [float, optional] Base of log scale. By default, equals 10.0</li>\n",
    "<li> => dtype: type of output array</li>"
   ]
  },
  {
   "cell_type": "code",
   "execution_count": 88,
   "id": "a0f60a09",
   "metadata": {},
   "outputs": [
    {
     "name": "stdout",
     "output_type": "stream",
     "text": [
      "[  100.           166.81005372   278.25594022   464.15888336\n",
      "   774.26368268  1291.54966501  2154.43469003  3593.8136638\n",
      "  5994.84250319 10000.        ]\n",
      "--------------------\n",
      "[ 9.         11.48866206 14.665484   18.72075441 23.89738011 30.50543603\n",
      " 38.9407384  49.70855377 63.45386399 81.        ]\n"
     ]
    }
   ],
   "source": [
    "print(np.logspace(2,4,10))\n",
    "print('-'*20)\n",
    "print(np.logspace(2,4,10, base = 3))"
   ]
  },
  {
   "cell_type": "markdown",
   "id": "d1cd10cd",
   "metadata": {},
   "source": [
    "# 16. Copy function\n",
    "\n",
    "If we normally use the equals sign then the **id** of both the numpy array will be same, so we need to use the **copy** function"
   ]
  },
  {
   "cell_type": "code",
   "execution_count": 89,
   "id": "22775b2f",
   "metadata": {},
   "outputs": [
    {
     "name": "stdout",
     "output_type": "stream",
     "text": [
      "[13  3  7  7  9 12  7 14  3 10] 2001987174544\n",
      "[13  3  7  7  9 12  7 14  3 10] 2001987174544\n",
      "--------------------------------------------------\n",
      "[ 8  2 13  3  5  5 12  9  2  8] 2001986466320\n",
      "[ 8  2 13  3  5  5 12  9  2  8] 2001986251984\n"
     ]
    }
   ],
   "source": [
    "arr1 = np.random.randint(1,15,10)\n",
    "\n",
    "arr2 = arr1\n",
    "\n",
    "print(arr1, id(arr1))\n",
    "print(arr2, id(arr2))\n",
    "\n",
    "print('-'*50)\n",
    "\n",
    "arr1 = np.random.randint(1,15,10)\n",
    "\n",
    "arr2 = np.copy(arr1)\n",
    "\n",
    "print(arr1, id(arr1))\n",
    "print(arr2, id(arr2))\n"
   ]
  },
  {
   "cell_type": "markdown",
   "id": "c50d42ec",
   "metadata": {},
   "source": [
    "# 17.  arr.max(), arr.min(), arr.sumI() functions\n",
    "\n",
    "<li> arr.max() will give us the maximum element present in the array</li>\n",
    "<li> arr.min() will give us the minimum element present in the array</li>\n",
    "<li> arr.sum() will give us the sum of all the elements present in the array</li>"
   ]
  },
  {
   "cell_type": "code",
   "execution_count": 90,
   "id": "f5313890",
   "metadata": {},
   "outputs": [
    {
     "name": "stdout",
     "output_type": "stream",
     "text": [
      "--------------------\n",
      "[[15 25 20 19 29]\n",
      " [ 7 25  1 12 28]\n",
      " [ 6 20 15 10  6]]\n",
      "--------------------\n",
      "Max :  29\n",
      "Min :  1\n",
      "Sum :  238\n"
     ]
    }
   ],
   "source": [
    "arr = np.random.randint(1,  30, (3,5))\n",
    "print('-'*20)\n",
    "print(arr)\n",
    "print('-'*20)\n",
    "\n",
    "print('Max : ', arr.max())\n",
    "print('Min : ', arr.min())\n",
    "print('Sum : ', arr.sum())"
   ]
  },
  {
   "cell_type": "markdown",
   "id": "a3337ba0",
   "metadata": {},
   "source": [
    "**We can use the axis parameter to get the max, min and sum of a particular column or row**\n",
    "\n",
    "<li> axis = 0 is for the column</li>\n",
    "<li> axis = 1 is for the row</li>\n"
   ]
  },
  {
   "cell_type": "code",
   "execution_count": 91,
   "id": "d83cdf22",
   "metadata": {},
   "outputs": [
    {
     "name": "stdout",
     "output_type": "stream",
     "text": [
      "--------------------\n",
      "[[13  1 13  4  3]\n",
      " [10 12 21 18 18]\n",
      " [ 8 28 10  6 11]]\n",
      "--------------------\n"
     ]
    }
   ],
   "source": [
    "arr = np.random.randint(1,30, (3,5))\n",
    "print('-'*20)\n",
    "print(arr)\n",
    "print('-'*20)"
   ]
  },
  {
   "cell_type": "code",
   "execution_count": 92,
   "id": "e0b9294c",
   "metadata": {},
   "outputs": [
    {
     "name": "stdout",
     "output_type": "stream",
     "text": [
      "Max :  [13 28 21 18 18]\n",
      "Min :  [ 8  1 10  4  3]\n",
      "Sum :  [31 41 44 28 32]\n"
     ]
    }
   ],
   "source": [
    "#for columns\n",
    "print('Max : ', arr.max(axis = 0))\n",
    "print('Min : ', arr.min(axis = 0))\n",
    "print('Sum : ', arr.sum(axis = 0))"
   ]
  },
  {
   "cell_type": "code",
   "execution_count": 93,
   "id": "eb675767",
   "metadata": {},
   "outputs": [
    {
     "name": "stdout",
     "output_type": "stream",
     "text": [
      "Max :  [13 21 28]\n",
      "Min :  [ 1 10  6]\n",
      "Sum :  [34 79 63]\n"
     ]
    }
   ],
   "source": [
    "#for rows\n",
    "print('Max : ', arr.max(axis = 1))\n",
    "print('Min : ', arr.min(axis = 1))\n",
    "print('Sum : ', arr.sum(axis = 1))"
   ]
  },
  {
   "cell_type": "markdown",
   "id": "925392db",
   "metadata": {},
   "source": [
    "# 18. Seed Function\n",
    "\n",
    "random() function is used to generate random numbers in Python. Not actually random, rather this is used to generate pseudo-random numbers. That implies that these randomly generated numbers can be determined. random() function generates nubers for some values. This values is also called seed value.\n",
    "\n",
    "Syntax: random.seed(l, version)"
   ]
  },
  {
   "cell_type": "code",
   "execution_count": 94,
   "id": "0437c1b5",
   "metadata": {},
   "outputs": [
    {
     "data": {
      "text/plain": [
       "array([[9, 4, 9, 9, 1],\n",
       "       [6, 4, 6, 8, 7],\n",
       "       [1, 5, 8, 9, 2]])"
      ]
     },
     "execution_count": 94,
     "metadata": {},
     "output_type": "execute_result"
    }
   ],
   "source": [
    "np.random.seed(3)\n",
    "\n",
    "arr = np.random.randint(1, 10, (3,5))\n",
    "arr"
   ]
  },
  {
   "cell_type": "markdown",
   "id": "4326e3b1",
   "metadata": {},
   "source": [
    "# 19. Sorting function\n",
    "\n",
    "numpy.sort() : This function returns a sorted copy of an array.\n",
    "\n",
    "Parameters:\n",
    "\n",
    "<li> arr: Array to be sorted</li>\n",
    "<li> axis: Axis along which we need array to be sorted</li>\n",
    "<li> order: This argument specifies which fields to compare first</li>\n",
    "<li> kind: ['quicksort'{default}, 'mergesort','heapsort'] Sorting algorithm</li>"
   ]
  },
  {
   "cell_type": "code",
   "execution_count": 95,
   "id": "1b4f2dad",
   "metadata": {},
   "outputs": [
    {
     "name": "stdout",
     "output_type": "stream",
     "text": [
      "---------------\n",
      "[[9 4 9 9 1]\n",
      " [6 4 6 8 7]\n",
      " [1 5 8 9 2]]\n",
      "---------------\n",
      "[[1 4 9 9 9]\n",
      " [4 6 6 7 8]\n",
      " [1 2 5 8 9]]\n",
      "---------------\n",
      "[[1 4 6 8 1]\n",
      " [6 4 8 9 2]\n",
      " [9 5 9 9 7]]\n",
      "---------------\n",
      "[[1 1 2 4 4]\n",
      " [5 6 6 7 8]\n",
      " [8 9 9 9 9]]\n",
      "---------------\n"
     ]
    }
   ],
   "source": [
    "np.random.seed(3)\n",
    "arr = np.random.randint(1, 10, (3,5))\n",
    "\n",
    "print('-'*15)\n",
    "print(arr)\n",
    "print('-'*15)\n",
    "print(np.sort(arr, axis = 1))\n",
    "print('-'*15)\n",
    "print(np.sort(arr, axis = 0))\n",
    "print('-'*15)\n",
    "\n",
    "arr = np.reshape(np.sort(arr.flatten()), arr.shape)\n",
    "print(arr)\n",
    "print('-'*15)"
   ]
  },
  {
   "cell_type": "code",
   "execution_count": 96,
   "id": "84b858f8",
   "metadata": {},
   "outputs": [
    {
     "name": "stdout",
     "output_type": "stream",
     "text": [
      "[[1 1 2 4 4]\n",
      " [5 6 6 7 8]\n",
      " [8 9 9 9 9]]\n"
     ]
    }
   ],
   "source": [
    "#we can chose which type of sorting we want to perform and chose the sorting algorithm\n",
    "print(np.sort(arr, axis =0, kind = 'mergesort'))"
   ]
  },
  {
   "cell_type": "markdown",
   "id": "eaa176e2",
   "metadata": {},
   "source": [
    "# 20. Mathematical operations\n",
    "\n",
    "**a) Addition**"
   ]
  },
  {
   "cell_type": "code",
   "execution_count": 97,
   "id": "0561f99f",
   "metadata": {},
   "outputs": [],
   "source": [
    "np.random.seed(5)"
   ]
  },
  {
   "cell_type": "code",
   "execution_count": 98,
   "id": "c392f7fc",
   "metadata": {},
   "outputs": [],
   "source": [
    "arr = np.random.randint(1, 10, (3, 5))"
   ]
  },
  {
   "cell_type": "code",
   "execution_count": 99,
   "id": "48108d23",
   "metadata": {},
   "outputs": [
    {
     "data": {
      "text/plain": [
       "array([[4, 7, 7, 1, 9],\n",
       "       [5, 8, 1, 1, 8],\n",
       "       [2, 6, 8, 1, 2]])"
      ]
     },
     "execution_count": 99,
     "metadata": {},
     "output_type": "execute_result"
    }
   ],
   "source": [
    "arr"
   ]
  },
  {
   "cell_type": "code",
   "execution_count": 100,
   "id": "7b6eaf29",
   "metadata": {},
   "outputs": [
    {
     "name": "stdout",
     "output_type": "stream",
     "text": [
      "[[4 7 7 1 9]\n",
      " [5 8 1 1 8]\n",
      " [2 6 8 1 2]]\n",
      "---------------\n",
      "[[ 5  8  8  2 10]\n",
      " [ 6  9  2  2  9]\n",
      " [ 3  7  9  2  3]]\n"
     ]
    }
   ],
   "source": [
    "print(arr)\n",
    "print('-' * 15)\n",
    "\n",
    "print(arr + 1)"
   ]
  },
  {
   "cell_type": "code",
   "execution_count": 101,
   "id": "04a46456",
   "metadata": {},
   "outputs": [
    {
     "name": "stdout",
     "output_type": "stream",
     "text": [
      "[[4 7 7 1 9]\n",
      " [5 8 1 1 8]\n",
      " [2 6 8 1 2]]\n",
      "---------------\n",
      "[[ 1  4  4 -2  6]\n",
      " [ 2  5 -2 -2  5]\n",
      " [-1  3  5 -2 -1]]\n"
     ]
    }
   ],
   "source": [
    "#subtraction\n",
    "print(arr)\n",
    "print('-' * 15)\n",
    "\n",
    "print(arr - 3)"
   ]
  },
  {
   "cell_type": "code",
   "execution_count": 102,
   "id": "a9b654e8",
   "metadata": {},
   "outputs": [
    {
     "name": "stdout",
     "output_type": "stream",
     "text": [
      "[[4 7 7 1 9]\n",
      " [5 8 1 1 8]\n",
      " [2 6 8 1 2]]\n",
      "---------------\n",
      "[[ 8 14 14  2 18]\n",
      " [10 16  2  2 16]\n",
      " [ 4 12 16  2  4]]\n"
     ]
    }
   ],
   "source": [
    "#Multiplication\n",
    "print(arr)\n",
    "print('-' * 15)\n",
    "\n",
    "print(arr * 2)"
   ]
  },
  {
   "cell_type": "code",
   "execution_count": 103,
   "id": "43d349d2",
   "metadata": {},
   "outputs": [
    {
     "name": "stdout",
     "output_type": "stream",
     "text": [
      "[[4 7 7 1 9]\n",
      " [5 8 1 1 8]\n",
      " [2 6 8 1 2]]\n",
      "---------------\n",
      "[[0.8 1.4 1.4 0.2 1.8]\n",
      " [1.  1.6 0.2 0.2 1.6]\n",
      " [0.4 1.2 1.6 0.2 0.4]]\n"
     ]
    }
   ],
   "source": [
    "#Division\n",
    "print(arr)\n",
    "print('-' * 15)\n",
    "\n",
    "print(arr / 5)"
   ]
  },
  {
   "cell_type": "code",
   "execution_count": 104,
   "id": "80c0b662",
   "metadata": {},
   "outputs": [
    {
     "name": "stdout",
     "output_type": "stream",
     "text": [
      "[[ 88 130  86 110]\n",
      " [ 86 135  57  86]\n",
      " [ 48  81  63  91]]\n",
      "---------------\n",
      "[[ 88 130  86 110]\n",
      " [ 86 135  57  86]\n",
      " [ 48  81  63  91]]\n",
      "---------------\n",
      "(3, 4)\n"
     ]
    }
   ],
   "source": [
    "#Matrix Multiplication\n",
    "#either use dot function\n",
    "# or use @ symbol\n",
    "\n",
    "np.random.seed(5)\n",
    "arr1 = np.random.randint(1, 10, (3,5))\n",
    "arr2 = np.random.randint(1, 10, (5, 4))\n",
    "\n",
    "print(arr1.dot(arr2))\n",
    "print('-'*15)\n",
    "print(arr1@arr2)\n",
    "print('-'*15)\n",
    "print((arr1.dot(arr2)).shape)"
   ]
  },
  {
   "cell_type": "code",
   "execution_count": 105,
   "id": "c9812782",
   "metadata": {},
   "outputs": [
    {
     "name": "stdout",
     "output_type": "stream",
     "text": [
      "[[4 7 7 1 9]\n",
      " [5 8 1 1 8]\n",
      " [2 6 8 1 2]]\n",
      "---------------\n",
      "[[16 49 49  1 81]\n",
      " [25 64  1  1 64]\n",
      " [ 4 36 64  1  4]]\n"
     ]
    }
   ],
   "source": [
    "#Power\n",
    "print(arr)\n",
    "print('-'*15)\n",
    "print(arr ** 2)"
   ]
  },
  {
   "cell_type": "markdown",
   "id": "c30dc4f6",
   "metadata": {},
   "source": [
    "# 21. Percentile function\n",
    "\n",
    "numpy.percentile() function is used to compute the nth percentile of the given data (array elements) along the specified axis"
   ]
  },
  {
   "cell_type": "code",
   "execution_count": 107,
   "id": "4b129d9f",
   "metadata": {},
   "outputs": [
    {
     "name": "stdout",
     "output_type": "stream",
     "text": [
      "[9 4 9 9 1 6 4 6 8 7]\n",
      "[1 4 4 6 6 7 8 9 9 9]\n",
      "6.5\n"
     ]
    }
   ],
   "source": [
    "np.random.seed(3)\n",
    "\n",
    "arr1 = np.random.randint(1, 10, 10)\n",
    "\n",
    "print(arr1)\n",
    "\n",
    "arr1 = np.sort(arr1)\n",
    "\n",
    "print(arr1)\n",
    "\n",
    "print(np.percentile(arr1, 50))"
   ]
  },
  {
   "cell_type": "markdown",
   "id": "aa6cae8e",
   "metadata": {},
   "source": [
    "# 22. Mean, Variance and Standard deviation\n",
    "\n",
    "In Numpy, we can compute the mean, standard deviation, and variance of a given array along the second axis by two approaches first is by using inbuilt functions and second  is by the formulas of the mean, standard deviation and variance.\n",
    "\n",
    "Using numpy.mean(), numpy.std(), numpy.var()"
   ]
  },
  {
   "cell_type": "code",
   "execution_count": 108,
   "id": "5dd1e51a",
   "metadata": {},
   "outputs": [
    {
     "name": "stdout",
     "output_type": "stream",
     "text": [
      "[9 4 9 9 1 6 4 6 8 7]\n",
      "6.3\n",
      "6.410000000000001\n",
      "2.5317977802344327\n"
     ]
    }
   ],
   "source": [
    "np.random.seed(3)\n",
    "\n",
    "arr = np.random.randint(1, 10, 10)\n",
    "\n",
    "print(arr)\n",
    "print(arr.mean())\n",
    "print(arr.var())\n",
    "print(arr.std())"
   ]
  },
  {
   "cell_type": "markdown",
   "id": "41e0e822",
   "metadata": {},
   "source": [
    "# 23. Filtering an numpy array\n"
   ]
  },
  {
   "cell_type": "code",
   "execution_count": 112,
   "id": "54f7e824",
   "metadata": {},
   "outputs": [
    {
     "name": "stdout",
     "output_type": "stream",
     "text": [
      "[ 1  2  3  4  5  6  7  8  9 10 11 12 13 14 15 16 17 18 19 20 21 22 23 24\n",
      " 25 26 27 28 29]\n",
      "----------------------------------------\n",
      "[False False False False False False False False False False  True  True\n",
      "  True  True  True  True  True  True  True  True  True  True  True  True\n",
      "  True  True  True  True  True]\n",
      "----------------------------------------\n",
      "[ True  True  True  True  True  True  True  True  True False False False\n",
      " False False False False False False False False False False False False\n",
      " False False False False False]\n",
      "----------------------------------------\n",
      "[11 12 13 14 15 16 17 18 19 20 21 22 23 24 25 26 27 28 29]\n"
     ]
    }
   ],
   "source": [
    "arr = np.arange(1, 30)\n",
    "\n",
    "print(arr)\n",
    "print('--'*20)\n",
    "print(arr > 10)\n",
    "print('--'*20)\n",
    "print(arr < 10)\n",
    "print('--'*20)\n",
    "print(arr[arr>10])"
   ]
  },
  {
   "cell_type": "code",
   "execution_count": 113,
   "id": "861e358a",
   "metadata": {},
   "outputs": [
    {
     "name": "stdout",
     "output_type": "stream",
     "text": [
      "[1 2 3 4]\n"
     ]
    }
   ],
   "source": [
    "arr2 = arr[arr<5]\n",
    "print(arr2)"
   ]
  },
  {
   "cell_type": "code",
   "execution_count": 114,
   "id": "b8eac809",
   "metadata": {},
   "outputs": [
    {
     "name": "stdout",
     "output_type": "stream",
     "text": [
      "[ 1  2  3  4  5 10 10 10 10 10 10 10 10 10 10 10 10 10 10 10 10 10 10 10\n",
      " 10 10 10 10 10]\n"
     ]
    }
   ],
   "source": [
    "arr[arr>5] = 10\n",
    "\n",
    "print(arr)"
   ]
  },
  {
   "cell_type": "markdown",
   "id": "a80853e5",
   "metadata": {},
   "source": [
    "# 24. Transposing an Array"
   ]
  },
  {
   "cell_type": "code",
   "execution_count": 115,
   "id": "e35acc3e",
   "metadata": {},
   "outputs": [
    {
     "name": "stdout",
     "output_type": "stream",
     "text": [
      "[[ 1 13  8 15 18]\n",
      " [ 3  3  2  6  9]\n",
      " [15  2 11  8 12]]\n",
      "--------------------\n",
      "[[ 1  3 15]\n",
      " [13  3  2]\n",
      " [ 8  2 11]\n",
      " [15  6  8]\n",
      " [18  9 12]]\n"
     ]
    }
   ],
   "source": [
    "arr = np.random.randint(1, 20, (3,5))\n",
    "\n",
    "print(arr)\n",
    "print('-'*20)\n",
    "print(arr.T)"
   ]
  },
  {
   "cell_type": "markdown",
   "id": "cc19baec",
   "metadata": {},
   "source": [
    "# 25. Where function\n",
    "\n",
    "The numpy.where() function returns the indices of elements in an input array where the given condition is satisfied.\n",
    "\n",
    "Syntax: numpy.where(condition[,x,y])\n",
    "\n",
    "Parameters:\n",
    "\n",
    "condition: When True, yield x, otherwise yield y.\n",
    "x, y: Values from which to choose. x, y and condition need to be broadcastable to some shape.\n",
    "\n",
    "Returns: \n",
    "out: [ndarray or tuple of ndarrays] If both x and y are specified, the output array contains elements of x where condition is True, and elements from y elsewhere.\n",
    "\n",
    "If only condition is given, return the tuple condition.nonzero(), the indices where condition is True"
   ]
  },
  {
   "cell_type": "code",
   "execution_count": 116,
   "id": "c109b9ff",
   "metadata": {},
   "outputs": [
    {
     "name": "stdout",
     "output_type": "stream",
     "text": [
      "[34 80 49 38 21 95 50 22 79 29]\n"
     ]
    }
   ],
   "source": [
    "arr = np.random.randint(1, 100, 10)\n",
    "print(arr)"
   ]
  },
  {
   "cell_type": "code",
   "execution_count": 119,
   "id": "3e0b7c9b",
   "metadata": {},
   "outputs": [
    {
     "data": {
      "text/plain": [
       "array([100, 100,  49, 100,  21,  95, 100, 100,  79,  29])"
      ]
     },
     "execution_count": 119,
     "metadata": {},
     "output_type": "execute_result"
    }
   ],
   "source": [
    "print(np.where(arr%2 == 0, 100, arr))"
   ]
  },
  {
   "cell_type": "markdown",
   "id": "60f8b62f",
   "metadata": {},
   "source": [
    "# 26. Merging Arrays\n",
    "\n",
    "**a)Concatenate**\n",
    "\n",
    "We can perform the concatenation operation using the concatenate() function. With this function, arrays are concatenated either row-wise or column-wise, given that they have equal rows or columns respectively. Column-wise concatenation can be done by equating axis to 1 as an argument in the function."
   ]
  },
  {
   "cell_type": "code",
   "execution_count": 121,
   "id": "92926bd9",
   "metadata": {},
   "outputs": [
    {
     "name": "stdout",
     "output_type": "stream",
     "text": [
      "[[8 5 4 1]\n",
      " [1 1 1 3]]\n",
      "[[3 8 1 6]\n",
      " [1 2 5 2]]\n",
      "--------------------\n",
      "[[8 5 4 1]\n",
      " [1 1 1 3]\n",
      " [3 8 1 6]\n",
      " [1 2 5 2]]\n",
      "--------------------\n",
      "[[8 5 4 1 3 8 1 6]\n",
      " [1 1 1 3 1 2 5 2]]\n"
     ]
    }
   ],
   "source": [
    "arr1 = np.random.randint(1, 10, (2,4))\n",
    "arr2 = np.random.randint(1, 10, (2,4))\n",
    "\n",
    "print(arr1)\n",
    "print(arr2)\n",
    "print('-'*20)\n",
    "print(np.concatenate((arr1, arr2), axis =0))# row-wise concatenations\n",
    "print('-'*20)\n",
    "print(np.concatenate((arr1, arr2), axis =1))# column-wise concatenations"
   ]
  },
  {
   "cell_type": "markdown",
   "id": "d4977ccc",
   "metadata": {},
   "source": [
    "**b)Vstack and Hstack**\n",
    "\n",
    "numpy.hstack() function is used to stack the sequence of input arrays horizontally (i.e. column wise) to make a single array."
   ]
  },
  {
   "cell_type": "code",
   "execution_count": 123,
   "id": "d7bfb2e6",
   "metadata": {},
   "outputs": [
    {
     "name": "stdout",
     "output_type": "stream",
     "text": [
      "[[2 8 9 8]\n",
      " [5 1 1 5]]\n",
      "---------------\n",
      "[[4 1 9 3]\n",
      " [8 3 2 4]]\n",
      "---------------\n",
      "[[2 8 9 8 4 1 9 3]\n",
      " [5 1 1 5 8 3 2 4]]\n"
     ]
    }
   ],
   "source": [
    "arr1 = np.random.randint(1, 10, (2,4))\n",
    "arr2 = np.random.randint(1, 10, (2,4))\n",
    "\n",
    "print(arr1)\n",
    "print('-'*15)\n",
    "print(arr2)\n",
    "print('-'*15)\n",
    "print(np.hstack((arr1, arr2)))"
   ]
  },
  {
   "cell_type": "code",
   "execution_count": 124,
   "id": "af2a3421",
   "metadata": {},
   "outputs": [
    {
     "name": "stdout",
     "output_type": "stream",
     "text": [
      "[[2 8 9 8]\n",
      " [5 1 1 5]]\n",
      "---------------\n",
      "[[4 1 9 3]\n",
      " [8 3 2 4]]\n",
      "---------------\n",
      "[[2 8 9 8]\n",
      " [5 1 1 5]\n",
      " [4 1 9 3]\n",
      " [8 3 2 4]]\n"
     ]
    }
   ],
   "source": [
    "print(arr1)\n",
    "print('-'*15)\n",
    "print(arr2)\n",
    "print('-'*15)\n",
    "print(np.vstack((arr1, arr2)))"
   ]
  },
  {
   "cell_type": "markdown",
   "id": "9961b7ec",
   "metadata": {},
   "source": [
    "# 27. Splitting the arrays\n",
    "\n"
   ]
  },
  {
   "cell_type": "code",
   "execution_count": 125,
   "id": "61215325",
   "metadata": {},
   "outputs": [
    {
     "name": "stdout",
     "output_type": "stream",
     "text": [
      "[[3 5 2 3]\n",
      " [3 8 4 5]\n",
      " [2 7 8 2]\n",
      " [1 1 6 9]]\n"
     ]
    }
   ],
   "source": [
    "arr = np.random.randint(1, 10, (4,4))\n",
    "\n",
    "print(arr)"
   ]
  },
  {
   "cell_type": "code",
   "execution_count": 126,
   "id": "471886bf",
   "metadata": {},
   "outputs": [
    {
     "data": {
      "text/plain": [
       "[array([[3, 5, 2, 3],\n",
       "        [3, 8, 4, 5]]),\n",
       " array([[2, 7, 8, 2],\n",
       "        [1, 1, 6, 9]])]"
      ]
     },
     "execution_count": 126,
     "metadata": {},
     "output_type": "execute_result"
    }
   ],
   "source": [
    "np.vsplit(arr, 2)"
   ]
  },
  {
   "cell_type": "code",
   "execution_count": 129,
   "id": "74626e4e",
   "metadata": {},
   "outputs": [
    {
     "data": {
      "text/plain": [
       "[array([[3],\n",
       "        [3],\n",
       "        [2],\n",
       "        [1]]),\n",
       " array([[5],\n",
       "        [8],\n",
       "        [7],\n",
       "        [1]]),\n",
       " array([[2],\n",
       "        [4],\n",
       "        [8],\n",
       "        [6]]),\n",
       " array([[3],\n",
       "        [5],\n",
       "        [2],\n",
       "        [9]])]"
      ]
     },
     "execution_count": 129,
     "metadata": {},
     "output_type": "execute_result"
    }
   ],
   "source": [
    "np.hsplit(arr,4)"
   ]
  },
  {
   "cell_type": "markdown",
   "id": "62286706",
   "metadata": {},
   "source": [
    "# 28. Turning Pics into Numpy arrays"
   ]
  },
  {
   "cell_type": "markdown",
   "id": "e05578d9",
   "metadata": {},
   "source": [
    "<img src = 'GFG.png'>"
   ]
  },
  {
   "cell_type": "code",
   "execution_count": 131,
   "id": "c61c96ce",
   "metadata": {},
   "outputs": [],
   "source": [
    "from matplotlib.image import imread"
   ]
  },
  {
   "cell_type": "code",
   "execution_count": 132,
   "id": "96d50c28",
   "metadata": {},
   "outputs": [],
   "source": [
    "img = imread('GFG.png')"
   ]
  },
  {
   "cell_type": "code",
   "execution_count": 133,
   "id": "d6e0c1c2",
   "metadata": {},
   "outputs": [
    {
     "data": {
      "text/plain": [
       "(607, 1000, 3)"
      ]
     },
     "execution_count": 133,
     "metadata": {},
     "output_type": "execute_result"
    }
   ],
   "source": [
    "img.shape"
   ]
  },
  {
   "cell_type": "code",
   "execution_count": 134,
   "id": "dab343ea",
   "metadata": {},
   "outputs": [
    {
     "name": "stdout",
     "output_type": "stream",
     "text": [
      "[[[0.09803922 0.74509805 0.92941177]\n",
      "  [0.09803922 0.74509805 0.92941177]\n",
      "  [0.09803922 0.74509805 0.92941177]\n",
      "  ...\n",
      "  [0.09803922 0.74509805 0.92941177]\n",
      "  [0.09803922 0.74509805 0.92941177]\n",
      "  [0.09803922 0.74509805 0.92941177]]\n",
      "\n",
      " [[0.09803922 0.74509805 0.92941177]\n",
      "  [0.09803922 0.74509805 0.92941177]\n",
      "  [0.09803922 0.74509805 0.92941177]\n",
      "  ...\n",
      "  [0.09803922 0.74509805 0.92941177]\n",
      "  [0.09803922 0.74509805 0.92941177]\n",
      "  [0.09803922 0.74509805 0.92941177]]\n",
      "\n",
      " [[0.09803922 0.74509805 0.92941177]\n",
      "  [0.09803922 0.74509805 0.92941177]\n",
      "  [0.09803922 0.74509805 0.92941177]\n",
      "  ...\n",
      "  [0.09803922 0.74509805 0.92941177]\n",
      "  [0.09803922 0.74509805 0.92941177]\n",
      "  [0.09803922 0.74509805 0.92941177]]\n",
      "\n",
      " ...\n",
      "\n",
      " [[0.05882353 0.6039216  0.75686276]\n",
      "  [0.05882353 0.6039216  0.75686276]\n",
      "  [0.05882353 0.6039216  0.75686276]\n",
      "  ...\n",
      "  [0.05882353 0.6039216  0.75686276]\n",
      "  [0.05882353 0.6039216  0.75686276]\n",
      "  [0.05882353 0.6039216  0.75686276]]\n",
      "\n",
      " [[0.05882353 0.6039216  0.75686276]\n",
      "  [0.05882353 0.6039216  0.75686276]\n",
      "  [0.05882353 0.6039216  0.75686276]\n",
      "  ...\n",
      "  [0.05882353 0.6039216  0.75686276]\n",
      "  [0.05882353 0.6039216  0.75686276]\n",
      "  [0.05882353 0.6039216  0.75686276]]\n",
      "\n",
      " [[0.05882353 0.6039216  0.75686276]\n",
      "  [0.05882353 0.6039216  0.75686276]\n",
      "  [0.05882353 0.6039216  0.75686276]\n",
      "  ...\n",
      "  [0.05882353 0.6039216  0.75686276]\n",
      "  [0.05882353 0.6039216  0.75686276]\n",
      "  [0.05882353 0.6039216  0.75686276]]]\n"
     ]
    }
   ],
   "source": [
    "print(img)"
   ]
  },
  {
   "cell_type": "code",
   "execution_count": null,
   "id": "31fc4979",
   "metadata": {},
   "outputs": [],
   "source": []
  }
 ],
 "metadata": {
  "kernelspec": {
   "display_name": "Python 3 (ipykernel)",
   "language": "python",
   "name": "python3"
  },
  "language_info": {
   "codemirror_mode": {
    "name": "ipython",
    "version": 3
   },
   "file_extension": ".py",
   "mimetype": "text/x-python",
   "name": "python",
   "nbconvert_exporter": "python",
   "pygments_lexer": "ipython3",
   "version": "3.11.4"
  }
 },
 "nbformat": 4,
 "nbformat_minor": 5
}
