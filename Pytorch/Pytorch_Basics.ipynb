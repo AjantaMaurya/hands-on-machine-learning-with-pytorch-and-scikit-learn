{
  "nbformat": 4,
  "nbformat_minor": 0,
  "metadata": {
    "colab": {
      "provenance": [],
      "gpuType": "T4"
    },
    "kernelspec": {
      "name": "python3",
      "display_name": "Python 3"
    },
    "language_info": {
      "name": "python"
    }
  },
  "cells": [
    {
      "cell_type": "markdown",
      "source": [
        "<ol type = 1>\n",
        "<li> How pytorch improves training performance</li>\n",
        "<li> Working with PyTorch's Dataset and DataLoader to build input pipelines and efficient model training</li>\n",
        "<li> Working with PyTorch to write optimized machine learning code</li>\n",
        "<li> Using the torch.nn module to implement common deep learning architectures conveniently</li>\n",
        "<li> Choosing activation functions for artificial NNs</li>\n",
        "</ol>"
      ],
      "metadata": {
        "id": "H3_WGKdHlfV6"
      }
    },
    {
      "cell_type": "markdown",
      "source": [
        "Scikit-learn allows us to spread computations over multiple processing unit.<br><br>\n",
        "Python is limited to execution on one core due to the **Global Interpreter Lock (GIL)**<br><br>\n",
        "Writing code to target GPUs is not as simple as executing Python code in our interpreter. Special Packages like CUDA and OpenCL help us to write code for GPU.<br><br>\n",
        "\n",
        "## What is Pytorch?<br>\n",
        "PyTorch is **scalable** and **multiplatform** programming interface for implementing and running machine learning algorithms.<br><br>\n",
        "PyTorch supports CUDA-enabled and ROCm GPUs officially.<br><br>\n",
        "It is built around a computation graph composed of a set of nodes.Each node represents an operation that may have zero or more inputs or outputs.<br><br>\n",
        "Computation graph is defined implicitly.\n",
        "\n",
        "\n",
        "\n"
      ],
      "metadata": {
        "id": "RnM3oQH9qpJQ"
      }
    },
    {
      "cell_type": "markdown",
      "source": [
        "## Installing PyTorch"
      ],
      "metadata": {
        "id": "OMaM5lrbvQF6"
      }
    },
    {
      "cell_type": "code",
      "source": [
        "pip install torch torchvision"
      ],
      "metadata": {
        "colab": {
          "base_uri": "https://localhost:8080/"
        },
        "id": "-IoVLhdjqme5",
        "outputId": "c5a90fc6-76ff-49f2-f918-efe445accf76"
      },
      "execution_count": null,
      "outputs": [
        {
          "output_type": "stream",
          "name": "stdout",
          "text": [
            "Requirement already satisfied: torch in /usr/local/lib/python3.10/dist-packages (2.1.0+cu118)\n",
            "Requirement already satisfied: torchvision in /usr/local/lib/python3.10/dist-packages (0.16.0+cu118)\n",
            "Requirement already satisfied: filelock in /usr/local/lib/python3.10/dist-packages (from torch) (3.12.4)\n",
            "Requirement already satisfied: typing-extensions in /usr/local/lib/python3.10/dist-packages (from torch) (4.5.0)\n",
            "Requirement already satisfied: sympy in /usr/local/lib/python3.10/dist-packages (from torch) (1.12)\n",
            "Requirement already satisfied: networkx in /usr/local/lib/python3.10/dist-packages (from torch) (3.2)\n",
            "Requirement already satisfied: jinja2 in /usr/local/lib/python3.10/dist-packages (from torch) (3.1.2)\n",
            "Requirement already satisfied: fsspec in /usr/local/lib/python3.10/dist-packages (from torch) (2023.6.0)\n",
            "Requirement already satisfied: triton==2.1.0 in /usr/local/lib/python3.10/dist-packages (from torch) (2.1.0)\n",
            "Requirement already satisfied: numpy in /usr/local/lib/python3.10/dist-packages (from torchvision) (1.23.5)\n",
            "Requirement already satisfied: requests in /usr/local/lib/python3.10/dist-packages (from torchvision) (2.31.0)\n",
            "Requirement already satisfied: pillow!=8.3.*,>=5.3.0 in /usr/local/lib/python3.10/dist-packages (from torchvision) (9.4.0)\n",
            "Requirement already satisfied: MarkupSafe>=2.0 in /usr/local/lib/python3.10/dist-packages (from jinja2->torch) (2.1.3)\n",
            "Requirement already satisfied: charset-normalizer<4,>=2 in /usr/local/lib/python3.10/dist-packages (from requests->torchvision) (3.3.1)\n",
            "Requirement already satisfied: idna<4,>=2.5 in /usr/local/lib/python3.10/dist-packages (from requests->torchvision) (3.4)\n",
            "Requirement already satisfied: urllib3<3,>=1.21.1 in /usr/local/lib/python3.10/dist-packages (from requests->torchvision) (2.0.7)\n",
            "Requirement already satisfied: certifi>=2017.4.17 in /usr/local/lib/python3.10/dist-packages (from requests->torchvision) (2023.7.22)\n",
            "Requirement already satisfied: mpmath>=0.19 in /usr/local/lib/python3.10/dist-packages (from sympy->torch) (1.3.0)\n"
          ]
        }
      ]
    },
    {
      "cell_type": "code",
      "source": [
        "#pip install torch==1.9.0 torchvision==0.10.0"
      ],
      "metadata": {
        "id": "sNyU8vYYvmvD"
      },
      "execution_count": null,
      "outputs": []
    },
    {
      "cell_type": "markdown",
      "source": [
        "## Creating Tensors in PyTorch"
      ],
      "metadata": {
        "id": "Q1QobaLswI5y"
      }
    },
    {
      "cell_type": "code",
      "source": [
        "import torch\n",
        "import numpy as np\n",
        "np.set_printoptions(precision = 3)\n",
        "a = [1, 2, 3]\n",
        "b = np.array([4, 5, 6], dtype = np.int32)\n",
        "t_a = torch.tensor(a)\n",
        "t_b = torch.from_numpy(b)\n",
        "print(t_a)\n",
        "print(t_b)"
      ],
      "metadata": {
        "colab": {
          "base_uri": "https://localhost:8080/"
        },
        "id": "kMkuLxLkvx-V",
        "outputId": "dce2e89d-6ffb-4b9e-c0d1-866c6892f71e"
      },
      "execution_count": null,
      "outputs": [
        {
          "output_type": "stream",
          "name": "stdout",
          "text": [
            "tensor([1, 2, 3])\n",
            "tensor([4, 5, 6], dtype=torch.int32)\n"
          ]
        }
      ]
    },
    {
      "cell_type": "code",
      "source": [
        "t_ones = torch.ones(2, 3)\n",
        "t_ones.shape"
      ],
      "metadata": {
        "colab": {
          "base_uri": "https://localhost:8080/"
        },
        "id": "fOZp4LlNwlL4",
        "outputId": "e65dd1dd-029b-40c8-db91-81889e84030a"
      },
      "execution_count": null,
      "outputs": [
        {
          "output_type": "execute_result",
          "data": {
            "text/plain": [
              "torch.Size([2, 3])"
            ]
          },
          "metadata": {},
          "execution_count": 4
        }
      ]
    },
    {
      "cell_type": "code",
      "source": [
        "print(t_ones)"
      ],
      "metadata": {
        "colab": {
          "base_uri": "https://localhost:8080/"
        },
        "id": "zvVaXnKMwzme",
        "outputId": "3269c655-7f70-4989-e88e-bc3eb539c7d9"
      },
      "execution_count": null,
      "outputs": [
        {
          "output_type": "stream",
          "name": "stdout",
          "text": [
            "tensor([[1., 1., 1.],\n",
            "        [1., 1., 1.]])\n"
          ]
        }
      ]
    },
    {
      "cell_type": "markdown",
      "source": [
        "### Creating a tensor of random values"
      ],
      "metadata": {
        "id": "2gIMmqrlw_R-"
      }
    },
    {
      "cell_type": "code",
      "source": [
        "rand_tensor = torch.rand(2,3)\n",
        "print(rand_tensor)"
      ],
      "metadata": {
        "colab": {
          "base_uri": "https://localhost:8080/"
        },
        "id": "YmlrHfHkw4Rl",
        "outputId": "97d7a2b6-6a5b-49ca-f215-6915a31fecd1"
      },
      "execution_count": null,
      "outputs": [
        {
          "output_type": "stream",
          "name": "stdout",
          "text": [
            "tensor([[0.3549, 0.9999, 0.3307],\n",
            "        [0.3944, 0.4210, 0.5106]])\n"
          ]
        }
      ]
    },
    {
      "cell_type": "markdown",
      "source": [
        "### Manipulating the datatype and shape of a tensor\n",
        "<br>\n",
        "torch.to() function is used to change the datatype of a tensor to a desired type\n",
        "\n",
        "---\n",
        "\n"
      ],
      "metadata": {
        "id": "NygwQft6xLtz"
      }
    },
    {
      "cell_type": "code",
      "source": [
        "t_a_new = t_a.to(torch.int64)\n",
        "print(t_a_new.dtype)"
      ],
      "metadata": {
        "colab": {
          "base_uri": "https://localhost:8080/"
        },
        "id": "5TqqVO2yxI4T",
        "outputId": "f2b41d5f-0158-4219-efeb-8f42003f086a"
      },
      "execution_count": null,
      "outputs": [
        {
          "output_type": "stream",
          "name": "stdout",
          "text": [
            "torch.int64\n"
          ]
        }
      ]
    },
    {
      "cell_type": "markdown",
      "source": [
        "#### Transposing a tensor"
      ],
      "metadata": {
        "id": "ewO8sJVSyhvx"
      }
    },
    {
      "cell_type": "code",
      "source": [
        "t = torch.rand(3,5)\n",
        "print(t)"
      ],
      "metadata": {
        "colab": {
          "base_uri": "https://localhost:8080/"
        },
        "id": "5DVQb7n6xocw",
        "outputId": "bca4a4dd-bc43-481f-a576-8d6c17da059b"
      },
      "execution_count": null,
      "outputs": [
        {
          "output_type": "stream",
          "name": "stdout",
          "text": [
            "tensor([[0.4872, 0.1447, 0.2271, 0.1912, 0.9947],\n",
            "        [0.6390, 0.2521, 0.9491, 0.8838, 0.5895],\n",
            "        [0.0792, 0.7070, 0.0942, 0.9234, 0.0285]])\n"
          ]
        }
      ]
    },
    {
      "cell_type": "code",
      "source": [
        "t_tr = torch.transpose(t, 0, 1)"
      ],
      "metadata": {
        "id": "HRAOvMzRyoZ0"
      },
      "execution_count": null,
      "outputs": []
    },
    {
      "cell_type": "code",
      "source": [
        "print(t_tr)"
      ],
      "metadata": {
        "colab": {
          "base_uri": "https://localhost:8080/"
        },
        "id": "MFrS-fLGyvuh",
        "outputId": "cf5d56db-8f3c-4135-f51f-49301645fa0b"
      },
      "execution_count": null,
      "outputs": [
        {
          "output_type": "stream",
          "name": "stdout",
          "text": [
            "tensor([[0.4872, 0.6390, 0.0792],\n",
            "        [0.1447, 0.2521, 0.7070],\n",
            "        [0.2271, 0.9491, 0.0942],\n",
            "        [0.1912, 0.8838, 0.9234],\n",
            "        [0.9947, 0.5895, 0.0285]])\n"
          ]
        }
      ]
    },
    {
      "cell_type": "code",
      "source": [
        "print(t_tr.shape)"
      ],
      "metadata": {
        "colab": {
          "base_uri": "https://localhost:8080/"
        },
        "id": "blHsR5royxpi",
        "outputId": "7027789b-6b59-4e28-fb51-7efd5d3d9910"
      },
      "execution_count": null,
      "outputs": [
        {
          "output_type": "stream",
          "name": "stdout",
          "text": [
            "torch.Size([5, 3])\n"
          ]
        }
      ]
    },
    {
      "cell_type": "markdown",
      "source": [
        "#### Reshaping a Tensor"
      ],
      "metadata": {
        "id": "8Pb_dTEwy2Jo"
      }
    },
    {
      "cell_type": "code",
      "source": [
        "t = torch.zeros(30)\n",
        "print(t)"
      ],
      "metadata": {
        "colab": {
          "base_uri": "https://localhost:8080/"
        },
        "id": "-Jte8V1kyzXB",
        "outputId": "74f54a33-9413-4623-ad71-9b780fc96d76"
      },
      "execution_count": null,
      "outputs": [
        {
          "output_type": "stream",
          "name": "stdout",
          "text": [
            "tensor([0., 0., 0., 0., 0., 0., 0., 0., 0., 0., 0., 0., 0., 0., 0., 0., 0., 0., 0., 0., 0., 0., 0., 0.,\n",
            "        0., 0., 0., 0., 0., 0.])\n"
          ]
        }
      ]
    },
    {
      "cell_type": "code",
      "source": [
        "t_reshape = t.reshape(5,6)\n",
        "print(t_reshape)"
      ],
      "metadata": {
        "colab": {
          "base_uri": "https://localhost:8080/"
        },
        "id": "KUXW8ctMy8cu",
        "outputId": "c1b06d9d-ab01-4b35-b9d9-e8175594f62a"
      },
      "execution_count": null,
      "outputs": [
        {
          "output_type": "stream",
          "name": "stdout",
          "text": [
            "tensor([[0., 0., 0., 0., 0., 0.],\n",
            "        [0., 0., 0., 0., 0., 0.],\n",
            "        [0., 0., 0., 0., 0., 0.],\n",
            "        [0., 0., 0., 0., 0., 0.],\n",
            "        [0., 0., 0., 0., 0., 0.]])\n"
          ]
        }
      ]
    },
    {
      "cell_type": "code",
      "source": [
        "print(t_reshape.shape)"
      ],
      "metadata": {
        "colab": {
          "base_uri": "https://localhost:8080/"
        },
        "id": "maRu7AyCzCPH",
        "outputId": "027a8714-97dc-4bae-c009-07a6ce521b38"
      },
      "execution_count": null,
      "outputs": [
        {
          "output_type": "stream",
          "name": "stdout",
          "text": [
            "torch.Size([5, 6])\n"
          ]
        }
      ]
    },
    {
      "cell_type": "markdown",
      "source": [
        "#### Removing unnecessary dimensions"
      ],
      "metadata": {
        "id": "sk57zELbzIaB"
      }
    },
    {
      "cell_type": "code",
      "source": [
        "t = torch.zeros(1, 2, 1, 4, 1)"
      ],
      "metadata": {
        "id": "Gvj7BYZtzEyM"
      },
      "execution_count": null,
      "outputs": []
    },
    {
      "cell_type": "code",
      "source": [
        "print(t)"
      ],
      "metadata": {
        "colab": {
          "base_uri": "https://localhost:8080/"
        },
        "id": "CXqSl2d6zRAu",
        "outputId": "7f3bf3d8-7e37-44b8-f062-2850ad2d723e"
      },
      "execution_count": null,
      "outputs": [
        {
          "output_type": "stream",
          "name": "stdout",
          "text": [
            "tensor([[[[[0.],\n",
            "           [0.],\n",
            "           [0.],\n",
            "           [0.]]],\n",
            "\n",
            "\n",
            "         [[[0.],\n",
            "           [0.],\n",
            "           [0.],\n",
            "           [0.]]]]])\n"
          ]
        }
      ]
    },
    {
      "cell_type": "code",
      "source": [
        "t_sqz = torch.squeeze(t,2)\n",
        "print(t_sqz)"
      ],
      "metadata": {
        "colab": {
          "base_uri": "https://localhost:8080/"
        },
        "id": "H6l5y4yZzS3w",
        "outputId": "cf2b9e96-9e11-4a4e-cb4b-07a40615241c"
      },
      "execution_count": null,
      "outputs": [
        {
          "output_type": "stream",
          "name": "stdout",
          "text": [
            "tensor([[[[0.],\n",
            "          [0.],\n",
            "          [0.],\n",
            "          [0.]],\n",
            "\n",
            "         [[0.],\n",
            "          [0.],\n",
            "          [0.],\n",
            "          [0.]]]])\n"
          ]
        }
      ]
    },
    {
      "cell_type": "code",
      "source": [
        "print(t_sqz.shape)"
      ],
      "metadata": {
        "colab": {
          "base_uri": "https://localhost:8080/"
        },
        "id": "1GoYSY8ezxVh",
        "outputId": "49a49868-a60a-4779-d40e-4da1371e5025"
      },
      "execution_count": null,
      "outputs": [
        {
          "output_type": "stream",
          "name": "stdout",
          "text": [
            "torch.Size([1, 2, 4, 1])\n"
          ]
        }
      ]
    },
    {
      "cell_type": "code",
      "source": [
        "t = torch.zeros(1, 2, 1, 4, 4)"
      ],
      "metadata": {
        "id": "OWNSwjFt0KoJ"
      },
      "execution_count": null,
      "outputs": []
    },
    {
      "cell_type": "code",
      "source": [
        "print(t)"
      ],
      "metadata": {
        "colab": {
          "base_uri": "https://localhost:8080/"
        },
        "id": "VB8z04Yn1O-g",
        "outputId": "9a869c74-19e2-428d-f3a5-948c8741f623"
      },
      "execution_count": null,
      "outputs": [
        {
          "output_type": "stream",
          "name": "stdout",
          "text": [
            "tensor([[[[[0., 0., 0., 0.],\n",
            "           [0., 0., 0., 0.],\n",
            "           [0., 0., 0., 0.],\n",
            "           [0., 0., 0., 0.]]],\n",
            "\n",
            "\n",
            "         [[[0., 0., 0., 0.],\n",
            "           [0., 0., 0., 0.],\n",
            "           [0., 0., 0., 0.],\n",
            "           [0., 0., 0., 0.]]]]])\n"
          ]
        }
      ]
    },
    {
      "cell_type": "markdown",
      "source": [
        "### Applying Mathematical operations to tensors"
      ],
      "metadata": {
        "id": "gNzQkFvC1YsB"
      }
    },
    {
      "cell_type": "code",
      "source": [
        "torch.manual_seed(1)\n",
        "t1 = 2 * torch.rand(5, 2) -1 #tensor with uniform distribution in range[0,1]\n",
        "print(t1)"
      ],
      "metadata": {
        "colab": {
          "base_uri": "https://localhost:8080/"
        },
        "id": "akf2Mno51P_8",
        "outputId": "3a051a4a-4028-464c-dc71-ba438cd007f8"
      },
      "execution_count": null,
      "outputs": [
        {
          "output_type": "stream",
          "name": "stdout",
          "text": [
            "tensor([[ 0.5153, -0.4414],\n",
            "        [-0.1939,  0.4694],\n",
            "        [-0.9414,  0.5997],\n",
            "        [-0.2057,  0.5087],\n",
            "        [ 0.1390, -0.1224]])\n"
          ]
        }
      ]
    },
    {
      "cell_type": "code",
      "source": [
        "t2 = torch.normal(mean = 0, std = 1, size = (5, 2))# tensor with normal distribution\n",
        "print(t2)"
      ],
      "metadata": {
        "colab": {
          "base_uri": "https://localhost:8080/"
        },
        "id": "ksLuougq1v0t",
        "outputId": "9f7098da-1c22-4b41-8621-c3c653d43613"
      },
      "execution_count": null,
      "outputs": [
        {
          "output_type": "stream",
          "name": "stdout",
          "text": [
            "tensor([[ 0.8590,  0.7056],\n",
            "        [-0.3406, -1.2720],\n",
            "        [-1.1948,  0.0250],\n",
            "        [-0.7627,  1.3969],\n",
            "        [-0.3245,  0.2879]])\n"
          ]
        }
      ]
    },
    {
      "cell_type": "code",
      "source": [
        "#multiplication\n",
        "t3 = torch.multiply(t1, t2)\n",
        "print(t3)"
      ],
      "metadata": {
        "colab": {
          "base_uri": "https://localhost:8080/"
        },
        "id": "u-hyuDZb2Be4",
        "outputId": "4bf12ff6-b8a9-4f36-f0aa-6abbe03c287a"
      },
      "execution_count": null,
      "outputs": [
        {
          "output_type": "stream",
          "name": "stdout",
          "text": [
            "tensor([[ 0.4426, -0.3114],\n",
            "        [ 0.0660, -0.5970],\n",
            "        [ 1.1249,  0.0150],\n",
            "        [ 0.1569,  0.7107],\n",
            "        [-0.0451, -0.0352]])\n"
          ]
        }
      ]
    },
    {
      "cell_type": "code",
      "source": [
        "#mean\n",
        "t4 = torch.mean(t1, axis = 0)#column wise\n",
        "print(t4)"
      ],
      "metadata": {
        "colab": {
          "base_uri": "https://localhost:8080/"
        },
        "id": "_4o9jHXu2RWA",
        "outputId": "765d9a08-31e2-4783-8f9b-f5055732d634"
      },
      "execution_count": null,
      "outputs": [
        {
          "output_type": "stream",
          "name": "stdout",
          "text": [
            "tensor([-0.1373,  0.2028])\n"
          ]
        }
      ]
    },
    {
      "cell_type": "code",
      "source": [
        "#sum\n",
        "t_sum = torch.sum(t1)\n",
        "print(t_sum)"
      ],
      "metadata": {
        "colab": {
          "base_uri": "https://localhost:8080/"
        },
        "id": "pnsTst1j2enM",
        "outputId": "927bae8f-0cdb-4a2c-c25c-306b7fe233f8"
      },
      "execution_count": null,
      "outputs": [
        {
          "output_type": "stream",
          "name": "stdout",
          "text": [
            "tensor(0.3273)\n"
          ]
        }
      ]
    },
    {
      "cell_type": "code",
      "source": [
        "#stadard deviation\n",
        "t_std = torch.std(t2)\n",
        "print(t_std)\n",
        "print(t_std.dtype)"
      ],
      "metadata": {
        "colab": {
          "base_uri": "https://localhost:8080/"
        },
        "id": "RVlmQatx2m7c",
        "outputId": "0f21b0a8-a823-445b-81c9-c807a11b8243"
      },
      "execution_count": null,
      "outputs": [
        {
          "output_type": "stream",
          "name": "stdout",
          "text": [
            "tensor(0.8870)\n",
            "torch.float32\n"
          ]
        }
      ]
    },
    {
      "cell_type": "code",
      "source": [
        "#matrix multiplication\n",
        "t5 = torch.matmul(t1, torch.transpose(t2, 1, 0))\n",
        "print(t5)"
      ],
      "metadata": {
        "colab": {
          "base_uri": "https://localhost:8080/"
        },
        "id": "wFt80zKC28gN",
        "outputId": "1c95c108-39a5-4cf7-d2a6-960929bfc37a"
      },
      "execution_count": null,
      "outputs": [
        {
          "output_type": "stream",
          "name": "stdout",
          "text": [
            "tensor([[ 0.1312,  0.3860, -0.6267, -1.0096, -0.2943],\n",
            "        [ 0.1647, -0.5310,  0.2434,  0.8035,  0.1980],\n",
            "        [-0.3855, -0.4422,  1.1399,  1.5558,  0.4781],\n",
            "        [ 0.1822, -0.5771,  0.2585,  0.8676,  0.2132],\n",
            "        [ 0.0330,  0.1084, -0.1692, -0.2771, -0.0804]])\n"
          ]
        }
      ]
    },
    {
      "cell_type": "code",
      "source": [
        "print(torch.transpose(t2, 0, 1))"
      ],
      "metadata": {
        "colab": {
          "base_uri": "https://localhost:8080/"
        },
        "id": "xw9tEe-r3vWM",
        "outputId": "f664b260-bbe4-4932-85f5-8aae6c689fb9"
      },
      "execution_count": null,
      "outputs": [
        {
          "output_type": "stream",
          "name": "stdout",
          "text": [
            "tensor([[ 0.8590, -0.3406, -1.1948, -0.7627, -0.3245],\n",
            "        [ 0.7056, -1.2720,  0.0250,  1.3969,  0.2879]])\n"
          ]
        }
      ]
    },
    {
      "cell_type": "code",
      "source": [
        "print(torch.transpose(t2, 1, 0))"
      ],
      "metadata": {
        "colab": {
          "base_uri": "https://localhost:8080/"
        },
        "id": "i--rgx6k38Jv",
        "outputId": "961ff6cc-94c7-4739-bf97-caec6993f101"
      },
      "execution_count": null,
      "outputs": [
        {
          "output_type": "stream",
          "name": "stdout",
          "text": [
            "tensor([[ 0.8590, -0.3406, -1.1948, -0.7627, -0.3245],\n",
            "        [ 0.7056, -1.2720,  0.0250,  1.3969,  0.2879]])\n"
          ]
        }
      ]
    },
    {
      "cell_type": "code",
      "source": [
        "t5 = torch.matmul(t1, torch.transpose(t2, 0, 1))\n",
        "print(t5)"
      ],
      "metadata": {
        "colab": {
          "base_uri": "https://localhost:8080/"
        },
        "id": "whzP1tLk4DPx",
        "outputId": "730a942a-0acd-4c2a-a36d-8a4780da04af"
      },
      "execution_count": null,
      "outputs": [
        {
          "output_type": "stream",
          "name": "stdout",
          "text": [
            "tensor([[ 0.1312,  0.3860, -0.6267, -1.0096, -0.2943],\n",
            "        [ 0.1647, -0.5310,  0.2434,  0.8035,  0.1980],\n",
            "        [-0.3855, -0.4422,  1.1399,  1.5558,  0.4781],\n",
            "        [ 0.1822, -0.5771,  0.2585,  0.8676,  0.2132],\n",
            "        [ 0.0330,  0.1084, -0.1692, -0.2771, -0.0804]])\n"
          ]
        }
      ]
    },
    {
      "cell_type": "code",
      "source": [
        "t6 = torch.matmul(torch.transpose(t1, 0, 1), t2)\n",
        "print(t6)"
      ],
      "metadata": {
        "colab": {
          "base_uri": "https://localhost:8080/"
        },
        "id": "gU_CesuV4I7M",
        "outputId": "8987a02b-b1bd-4d29-bf5c-52cb1688c505"
      },
      "execution_count": null,
      "outputs": [
        {
          "output_type": "stream",
          "name": "stdout",
          "text": [
            "tensor([[ 1.7453,  0.3392],\n",
            "        [-1.6038, -0.2180]])\n"
          ]
        }
      ]
    },
    {
      "cell_type": "code",
      "source": [
        "# Finding Norm eg L2 norm\n",
        "norm_t1 = torch.linalg.norm(t1, ord = 2, dim =1)\n",
        "print(norm_t1)"
      ],
      "metadata": {
        "colab": {
          "base_uri": "https://localhost:8080/"
        },
        "id": "PeGIurC04aVM",
        "outputId": "35bee8ca-09df-45e2-c2dd-a53b358eb918"
      },
      "execution_count": null,
      "outputs": [
        {
          "output_type": "stream",
          "name": "stdout",
          "text": [
            "tensor([0.6785, 0.5078, 1.1162, 0.5488, 0.1853])\n"
          ]
        }
      ]
    },
    {
      "cell_type": "code",
      "source": [
        "np.sqrt(np.sum(np.square(t1.numpy()), axis = 1))#verification of the above norm"
      ],
      "metadata": {
        "colab": {
          "base_uri": "https://localhost:8080/"
        },
        "id": "ZYo4CV5a4pyy",
        "outputId": "55621152-71e4-4ed6-f23b-8c4ccc4f97f1"
      },
      "execution_count": null,
      "outputs": [
        {
          "output_type": "execute_result",
          "data": {
            "text/plain": [
              "array([0.678, 0.508, 1.116, 0.549, 0.185], dtype=float32)"
            ]
          },
          "metadata": {},
          "execution_count": 33
        }
      ]
    },
    {
      "cell_type": "markdown",
      "source": [
        "### Split, stack and concatenate tensors<br>\n",
        "torch.chunk() : to split a single tensor into multiple, equally sized tensors. <br> chunks argument = no. of chunks. <br>\n",
        "dim argument = desired dimension along which to split the tensor, for this the total size of the input tensor along the desired dimension must be divisible by the desired number of splits."
      ],
      "metadata": {
        "id": "09tQmWy67F3Q"
      }
    },
    {
      "cell_type": "code",
      "source": [
        "torch.manual_seed(2)\n",
        "t = torch.rand(6)\n",
        "print(t)"
      ],
      "metadata": {
        "colab": {
          "base_uri": "https://localhost:8080/"
        },
        "id": "h_vbCUBd46yI",
        "outputId": "5fd298b1-fdce-482c-d91e-5b9e7788057b"
      },
      "execution_count": null,
      "outputs": [
        {
          "output_type": "stream",
          "name": "stdout",
          "text": [
            "tensor([0.6147, 0.3810, 0.6371, 0.4745, 0.7136, 0.6190])\n"
          ]
        }
      ]
    },
    {
      "cell_type": "code",
      "source": [
        "t_splits = torch.chunk(t, 3)\n",
        "print(t_splits)"
      ],
      "metadata": {
        "colab": {
          "base_uri": "https://localhost:8080/"
        },
        "id": "uG0HxNsH8iFe",
        "outputId": "a47f224c-588b-4f93-88d5-b353857f9cb2"
      },
      "execution_count": null,
      "outputs": [
        {
          "output_type": "stream",
          "name": "stdout",
          "text": [
            "(tensor([0.6147, 0.3810]), tensor([0.6371, 0.4745]), tensor([0.7136, 0.6190]))\n"
          ]
        }
      ]
    },
    {
      "cell_type": "code",
      "source": [
        "[item.numpy() for item in t_splits]"
      ],
      "metadata": {
        "colab": {
          "base_uri": "https://localhost:8080/"
        },
        "id": "LLBOJ62G8oNc",
        "outputId": "214f1b0d-1add-45e5-9b1e-3d78221cce32"
      },
      "execution_count": null,
      "outputs": [
        {
          "output_type": "execute_result",
          "data": {
            "text/plain": [
              "[array([0.615, 0.381], dtype=float32),\n",
              " array([0.637, 0.474], dtype=float32),\n",
              " array([0.714, 0.619], dtype=float32)]"
            ]
          },
          "metadata": {},
          "execution_count": 36
        }
      ]
    },
    {
      "cell_type": "code",
      "source": [
        "#If the tensor size is not divisible by the chunks value, the last chunk will be smaller"
      ],
      "metadata": {
        "id": "4EMH-nf28xGz"
      },
      "execution_count": null,
      "outputs": []
    },
    {
      "cell_type": "code",
      "source": [
        "torch.manual_seed(1)\n",
        "t = torch.rand(5)\n",
        "print(t)"
      ],
      "metadata": {
        "colab": {
          "base_uri": "https://localhost:8080/"
        },
        "id": "o96ZIa4s9vaw",
        "outputId": "e0b34593-a79e-4388-fab3-48ab7746010d"
      },
      "execution_count": null,
      "outputs": [
        {
          "output_type": "stream",
          "name": "stdout",
          "text": [
            "tensor([0.7576, 0.2793, 0.4031, 0.7347, 0.0293])\n"
          ]
        }
      ]
    },
    {
      "cell_type": "code",
      "source": [
        "t_splits = torch.split(t, split_size_or_sections = [1,2, 2])"
      ],
      "metadata": {
        "id": "aLWAVZ9f98Gr"
      },
      "execution_count": null,
      "outputs": []
    },
    {
      "cell_type": "code",
      "source": [
        "[item.numpy() for item in t_splits]"
      ],
      "metadata": {
        "colab": {
          "base_uri": "https://localhost:8080/"
        },
        "id": "Qa69Dxkl-DkG",
        "outputId": "3d2d7df0-13b1-4c1f-dd92-74a7c53a83d3"
      },
      "execution_count": null,
      "outputs": [
        {
          "output_type": "execute_result",
          "data": {
            "text/plain": [
              "[array([0.758], dtype=float32),\n",
              " array([0.279, 0.403], dtype=float32),\n",
              " array([0.735, 0.029], dtype=float32)]"
            ]
          },
          "metadata": {},
          "execution_count": 46
        }
      ]
    },
    {
      "cell_type": "code",
      "source": [
        "t = torch.rand(4,5)"
      ],
      "metadata": {
        "id": "UK_sQKjj-I7N"
      },
      "execution_count": null,
      "outputs": []
    },
    {
      "cell_type": "code",
      "source": [
        "print(t)"
      ],
      "metadata": {
        "colab": {
          "base_uri": "https://localhost:8080/"
        },
        "id": "5p8wDZRP-WFU",
        "outputId": "59edd64e-fd1a-4dd2-bc58-baba55ceebbc"
      },
      "execution_count": null,
      "outputs": [
        {
          "output_type": "stream",
          "name": "stdout",
          "text": [
            "tensor([[0.2233, 0.0299, 0.3937, 0.7881, 0.9642],\n",
            "        [0.1895, 0.6085, 0.9314, 0.8313, 0.8116],\n",
            "        [0.8553, 0.8163, 0.6291, 0.1581, 0.0801],\n",
            "        [0.2709, 0.4418, 0.1935, 0.6829, 0.6547]])\n"
          ]
        }
      ]
    },
    {
      "cell_type": "code",
      "source": [
        "t_splits = torch.split(t, 2, 1)"
      ],
      "metadata": {
        "id": "-NA7lwcT-W5f"
      },
      "execution_count": null,
      "outputs": []
    },
    {
      "cell_type": "code",
      "source": [
        "[item.numpy() for item in t_splits]"
      ],
      "metadata": {
        "colab": {
          "base_uri": "https://localhost:8080/"
        },
        "id": "hrEukv9A-lhR",
        "outputId": "df11e153-31ed-4b07-da05-7b79114b24c1"
      },
      "execution_count": null,
      "outputs": [
        {
          "output_type": "execute_result",
          "data": {
            "text/plain": [
              "[array([[0.223, 0.03 ],\n",
              "        [0.189, 0.609],\n",
              "        [0.855, 0.816],\n",
              "        [0.271, 0.442]], dtype=float32),\n",
              " array([[0.394, 0.788],\n",
              "        [0.931, 0.831],\n",
              "        [0.629, 0.158],\n",
              "        [0.194, 0.683]], dtype=float32),\n",
              " array([[0.964],\n",
              "        [0.812],\n",
              "        [0.08 ],\n",
              "        [0.655]], dtype=float32)]"
            ]
          },
          "metadata": {},
          "execution_count": 58
        }
      ]
    },
    {
      "cell_type": "code",
      "source": [
        "t_splits = torch.split(t, 2, 0)"
      ],
      "metadata": {
        "id": "r5Qe2uGM-ufb"
      },
      "execution_count": null,
      "outputs": []
    },
    {
      "cell_type": "code",
      "source": [
        "[item.numpy() for item in t_splits]"
      ],
      "metadata": {
        "colab": {
          "base_uri": "https://localhost:8080/"
        },
        "id": "iPCgJb6J_Day",
        "outputId": "975f3933-8f62-45cb-fcd3-6b94b7d2ad98"
      },
      "execution_count": null,
      "outputs": [
        {
          "output_type": "execute_result",
          "data": {
            "text/plain": [
              "[array([[0.223, 0.03 , 0.394, 0.788, 0.964],\n",
              "        [0.189, 0.609, 0.931, 0.831, 0.812]], dtype=float32),\n",
              " array([[0.855, 0.816, 0.629, 0.158, 0.08 ],\n",
              "        [0.271, 0.442, 0.194, 0.683, 0.655]], dtype=float32)]"
            ]
          },
          "metadata": {},
          "execution_count": 60
        }
      ]
    },
    {
      "cell_type": "code",
      "source": [
        "t_splits = torch.split(t, 2, -1)\n",
        "[item.numpy() for item in t_splits]"
      ],
      "metadata": {
        "colab": {
          "base_uri": "https://localhost:8080/"
        },
        "id": "nrW-4sUt_Dzh",
        "outputId": "5ca6e53a-2cbc-405a-b937-e036974bc1f8"
      },
      "execution_count": null,
      "outputs": [
        {
          "output_type": "execute_result",
          "data": {
            "text/plain": [
              "[array([[0.223, 0.03 ],\n",
              "        [0.189, 0.609],\n",
              "        [0.855, 0.816],\n",
              "        [0.271, 0.442]], dtype=float32),\n",
              " array([[0.394, 0.788],\n",
              "        [0.931, 0.831],\n",
              "        [0.629, 0.158],\n",
              "        [0.194, 0.683]], dtype=float32),\n",
              " array([[0.964],\n",
              "        [0.812],\n",
              "        [0.08 ],\n",
              "        [0.655]], dtype=float32)]"
            ]
          },
          "metadata": {},
          "execution_count": 62
        }
      ]
    },
    {
      "cell_type": "code",
      "source": [
        "#Concatenating tensors\n",
        "A = torch.ones(3)# a tensor of size 3 with all values as 1\n",
        "B = torch.zeros(2)# a tensor of size 2 with all values as 0\n",
        "C = torch.cat([A,B], axis = 0)# concatenation operation\n",
        "print(C)"
      ],
      "metadata": {
        "colab": {
          "base_uri": "https://localhost:8080/"
        },
        "id": "TmQD2D3d_Kgt",
        "outputId": "1b109b40-9db5-4b8b-afaa-54ff35f44f0e"
      },
      "execution_count": null,
      "outputs": [
        {
          "output_type": "stream",
          "name": "stdout",
          "text": [
            "tensor([1., 1., 1., 0., 0.])\n"
          ]
        }
      ]
    },
    {
      "cell_type": "code",
      "source": [
        "C = torch.cat([A,B], axis = -1)# concatenation operation"
      ],
      "metadata": {
        "id": "7urNRJip_r7w"
      },
      "execution_count": null,
      "outputs": []
    },
    {
      "cell_type": "code",
      "source": [
        "print(C)"
      ],
      "metadata": {
        "colab": {
          "base_uri": "https://localhost:8080/"
        },
        "id": "ej7bzdFz_uvG",
        "outputId": "6dfa39e6-9b12-4d96-bd6f-33366010ce8f"
      },
      "execution_count": null,
      "outputs": [
        {
          "output_type": "stream",
          "name": "stdout",
          "text": [
            "tensor([1., 1., 1., 0., 0.])\n"
          ]
        }
      ]
    },
    {
      "cell_type": "code",
      "source": [
        "#stacking\n",
        "A = torch.ones(3)\n",
        "B = torch.zeros(3)\n",
        "S = torch.stack([A, B], axis = 1)\n",
        "print(S)"
      ],
      "metadata": {
        "colab": {
          "base_uri": "https://localhost:8080/"
        },
        "id": "vHKNl2bY_0E6",
        "outputId": "52d1a125-a8db-466f-c01e-23ef1ddfd34d"
      },
      "execution_count": null,
      "outputs": [
        {
          "output_type": "stream",
          "name": "stdout",
          "text": [
            "tensor([[1., 0.],\n",
            "        [1., 0.],\n",
            "        [1., 0.]])\n"
          ]
        }
      ]
    },
    {
      "cell_type": "code",
      "source": [
        "S = torch.stack([A, B], axis = 0)\n",
        "print(S)"
      ],
      "metadata": {
        "colab": {
          "base_uri": "https://localhost:8080/"
        },
        "id": "A2vSmWnMAA8P",
        "outputId": "76d6b45c-3b73-4aed-98d3-fff57333af95"
      },
      "execution_count": null,
      "outputs": [
        {
          "output_type": "stream",
          "name": "stdout",
          "text": [
            "tensor([[1., 1., 1.],\n",
            "        [0., 0., 0.]])\n"
          ]
        }
      ]
    },
    {
      "cell_type": "code",
      "source": [
        "#For referring other functions use the following documentation\n",
        "#https://pytorch.org/docs/stable/index.html."
      ],
      "metadata": {
        "id": "nrAky1ZXADNM"
      },
      "execution_count": null,
      "outputs": []
    },
    {
      "cell_type": "markdown",
      "source": [
        " New Notebook: Working with PyTorch's Dataset and DataLoader to build input pipelines and efficient model training"
      ],
      "metadata": {
        "id": "cTCI13tBDCCR"
      }
    },
    {
      "cell_type": "code",
      "source": [],
      "metadata": {
        "id": "QMAM5Y5aDA7j"
      },
      "execution_count": null,
      "outputs": []
    }
  ]
}