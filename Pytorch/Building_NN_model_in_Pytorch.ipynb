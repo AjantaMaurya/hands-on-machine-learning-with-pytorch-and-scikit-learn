{
  "nbformat": 4,
  "nbformat_minor": 0,
  "metadata": {
    "colab": {
      "provenance": []
    },
    "kernelspec": {
      "name": "python3",
      "display_name": "Python 3"
    },
    "language_info": {
      "name": "python"
    }
  },
  "cells": [
    {
      "cell_type": "code",
      "execution_count": 1,
      "metadata": {
        "id": "YF1-yWyigRi-"
      },
      "outputs": [],
      "source": [
        "#Building first predictive model using pytorch"
      ]
    },
    {
      "cell_type": "markdown",
      "source": [
        "### The PyTorch neural network module (torch.nn)\n",
        "torch.nn is an elegantly designed module developed to help create and train NNs. It allows easy pro-\n",
        "totyping and the building of complex models in just a few lines of code.<br><br>\n",
        "To fully utilize the power of the module and customize it for your problem, you need to understand\n",
        "what it’s doing. To develop this understanding, we will first train a basic linear regression model on a\n",
        "toy dataset without using any features from the torch.nn module; we will use nothing but the basic\n",
        "PyTorch tensor operations.<br><br>\n",
        "Then, we will incrementally add features from torch.nn and torch.optim. As you will see in the\n",
        "following subsections, these modules make building an NN model extremely easy. We will also take\n",
        "advantage of the dataset pipeline functionalities supported in PyTorch, such as Dataset and DataLoader,\n",
        "which you learned about in the previous section.<br><br> In this book, we will use the torch.nn module to\n",
        "build NN models.\n",
        "The most commonly used approach for building an NN in PyTorch is through nn.Module, which allows\n",
        "layers to be stacked to form a network. This gives us more control over the forward pass. We will see\n",
        "examples of building an NN model using the nn.Module class.<br><br>\n",
        "Finally, as you will see in the following subsections, a trained model can be saved and reloaded for\n",
        "future use."
      ],
      "metadata": {
        "id": "Kjq4S6Nbhy6z"
      }
    },
    {
      "cell_type": "markdown",
      "source": [
        "### Building a linear regression model"
      ],
      "metadata": {
        "id": "GpDU7GYpkBFk"
      }
    },
    {
      "cell_type": "code",
      "source": [
        "import numpy as np\n",
        "import torch\n",
        "import matplotlib.pyplot as plt"
      ],
      "metadata": {
        "id": "TtVd4Z3XkoMC"
      },
      "execution_count": 2,
      "outputs": []
    },
    {
      "cell_type": "code",
      "source": [
        "X_train = np.arange(10, dtype='float32').reshape((10,1))\n",
        "y_train = np.array([1.0, 1.3, 3.1, 2.0, 5.0, 6.3, 6.6, 7.4, 8.0, 9.0], dtype='float32')\n",
        "\n",
        "plt.plot(X_train, y_train, 'o', markersize = 10)\n",
        "plt.xlabel('x')\n",
        "plt.ylabel('y')\n",
        "plt.show()"
      ],
      "metadata": {
        "colab": {
          "base_uri": "https://localhost:8080/",
          "height": 449
        },
        "id": "pMZGany9hxz6",
        "outputId": "ce841cd9-b699-4c0f-8203-582584879a26"
      },
      "execution_count": 3,
      "outputs": [
        {
          "output_type": "display_data",
          "data": {
            "text/plain": [
              "<Figure size 640x480 with 1 Axes>"
            ],
            "image/png": "[encoded data removed]"
          },
          "metadata": {}
        }
      ]
    },
    {
      "cell_type": "code",
      "source": [
        "#standardize the dataset features- mean centering and dividing by the standard deviation\n",
        "#create a pytorch dataset for the training set and a corresponding DataLoader"
      ],
      "metadata": {
        "id": "BXny5ZAWklTc"
      },
      "execution_count": 4,
      "outputs": []
    },
    {
      "cell_type": "code",
      "source": [
        "from torch.utils.data import TensorDataset"
      ],
      "metadata": {
        "id": "yeH4FqSolYCO"
      },
      "execution_count": 5,
      "outputs": []
    },
    {
      "cell_type": "code",
      "source": [
        "X_train_norm = (X_train - np.mean(X_train)) / np.std(X_train)\n",
        "X_train_norm = torch.from_numpy(X_train_norm)\n",
        "y_train = torch.from_numpy(y_train)"
      ],
      "metadata": {
        "id": "Fl88v19Alb_V"
      },
      "execution_count": 6,
      "outputs": []
    },
    {
      "cell_type": "code",
      "source": [
        "print(X_train_norm)"
      ],
      "metadata": {
        "colab": {
          "base_uri": "https://localhost:8080/"
        },
        "id": "Ju6wPNZ-mano",
        "outputId": "0e3e8d4f-2b97-42af-fa9f-819710d8d26c"
      },
      "execution_count": 7,
      "outputs": [
        {
          "output_type": "stream",
          "name": "stdout",
          "text": [
            "tensor([[-1.5667],\n",
            "        [-1.2185],\n",
            "        [-0.8704],\n",
            "        [-0.5222],\n",
            "        [-0.1741],\n",
            "        [ 0.1741],\n",
            "        [ 0.5222],\n",
            "        [ 0.8704],\n",
            "        [ 1.2185],\n",
            "        [ 1.5667]])\n"
          ]
        }
      ]
    },
    {
      "cell_type": "code",
      "source": [
        "print(y_train)"
      ],
      "metadata": {
        "colab": {
          "base_uri": "https://localhost:8080/"
        },
        "id": "-IvKNA-Wmb9S",
        "outputId": "52b5ce04-5c9d-41ee-cf40-c131d7563517"
      },
      "execution_count": 8,
      "outputs": [
        {
          "output_type": "stream",
          "name": "stdout",
          "text": [
            "tensor([1.0000, 1.3000, 3.1000, 2.0000, 5.0000, 6.3000, 6.6000, 7.4000, 8.0000,\n",
            "        9.0000])\n"
          ]
        }
      ]
    },
    {
      "cell_type": "code",
      "source": [
        "from torch.utils.data import DataLoader"
      ],
      "metadata": {
        "id": "94-bGTa1m4j6"
      },
      "execution_count": 9,
      "outputs": []
    },
    {
      "cell_type": "code",
      "source": [
        "train_ds = TensorDataset(X_train_norm, y_train)\n"
      ],
      "metadata": {
        "id": "2YcIcU1Bmeem"
      },
      "execution_count": 10,
      "outputs": []
    },
    {
      "cell_type": "code",
      "source": [
        "batch_size = 1\n",
        "train_dl = DataLoader(train_ds, batch_size, shuffle=True)"
      ],
      "metadata": {
        "id": "yq6D2BsamtQR"
      },
      "execution_count": 11,
      "outputs": []
    },
    {
      "cell_type": "code",
      "source": [
        "print(train_ds)"
      ],
      "metadata": {
        "colab": {
          "base_uri": "https://localhost:8080/"
        },
        "id": "DX7Za0UWm6bj",
        "outputId": "2dae1432-c0f2-40a0-d4dd-249af279819e"
      },
      "execution_count": 12,
      "outputs": [
        {
          "output_type": "stream",
          "name": "stdout",
          "text": [
            "<torch.utils.data.dataset.TensorDataset object at 0x7c7af68f33d0>\n"
          ]
        }
      ]
    },
    {
      "cell_type": "code",
      "source": [
        "#define the linear regression model as z = wx + b\n",
        "# torch.nn module will be used\n",
        "# torch.nn provides predefined layers for building complex NN models"
      ],
      "metadata": {
        "id": "WKQrbXm2m8Ws"
      },
      "execution_count": 13,
      "outputs": []
    },
    {
      "cell_type": "code",
      "source": [
        "torch.manual_seed(1)\n",
        "weight = torch.randn(1)\n",
        "weight.requires_grad_()\n",
        "bias = torch.zeros(1, requires_grad=True)\n",
        "def model(xb):#model\n",
        "  return(xb @ weight + bias)\n",
        "\n",
        "def loss_fn(input, target):#mean squared error as loss function\n",
        "  return (input - target).pow(2).mean()"
      ],
      "metadata": {
        "id": "coP6zAN4r0_i"
      },
      "execution_count": 14,
      "outputs": []
    },
    {
      "cell_type": "code",
      "source": [
        "#training the model\n",
        "learning_rate = 0.001\n",
        "num_epochs = 200\n",
        "log_epochs = 10\n",
        "for epoch in range(num_epochs):\n",
        "  for x_batch, y_batch in train_dl:\n",
        "    pred = model(x_batch)\n",
        "    loss = loss_fn(pred, y_batch)\n",
        "    loss.backward()#to perform backward propagation\n",
        "  with torch.no_grad():\n",
        "    weight -= weight.grad * learning_rate\n",
        "    bias -= bias.grad * learning_rate\n",
        "    weight.grad.zero_()\n",
        "    bias.grad.zero_()\n",
        "\n",
        "  print(f'Epoch {epoch} Loss {loss.item():.4f}' )"
      ],
      "metadata": {
        "colab": {
          "base_uri": "https://localhost:8080/"
        },
        "id": "PZpEY0a-smJT",
        "outputId": "d0411490-b167-46ea-b431-d81d4372ce32"
      },
      "execution_count": 15,
      "outputs": [
        {
          "output_type": "stream",
          "name": "stdout",
          "text": [
            "Epoch 0 Loss 46.5720\n",
            "Epoch 1 Loss 25.2290\n",
            "Epoch 2 Loss 35.6882\n",
            "Epoch 3 Loss 3.7339\n",
            "Epoch 4 Loss 33.4762\n",
            "Epoch 5 Loss 3.4889\n",
            "Epoch 6 Loss 10.9662\n",
            "Epoch 7 Loss 20.3101\n",
            "Epoch 8 Loss 45.4799\n",
            "Epoch 9 Loss 32.5139\n",
            "Epoch 10 Loss 27.1502\n",
            "Epoch 11 Loss 9.2419\n",
            "Epoch 12 Loss 8.9340\n",
            "Epoch 13 Loss 29.9255\n",
            "Epoch 14 Loss 35.4018\n",
            "Epoch 15 Loss 25.5995\n",
            "Epoch 16 Loss 7.8102\n",
            "Epoch 17 Loss 14.2428\n",
            "Epoch 18 Loss 2.2440\n",
            "Epoch 19 Loss 1.7323\n",
            "Epoch 20 Loss 1.6446\n",
            "Epoch 21 Loss 20.1641\n",
            "Epoch 22 Loss 11.9683\n",
            "Epoch 23 Loss 6.2012\n",
            "Epoch 24 Loss 1.3318\n",
            "Epoch 25 Loss 5.8122\n",
            "Epoch 26 Loss 0.5642\n",
            "Epoch 27 Loss 5.4505\n",
            "Epoch 28 Loss 13.2929\n",
            "Epoch 29 Loss 14.6182\n",
            "Epoch 30 Loss 14.4571\n",
            "Epoch 31 Loss 8.8072\n",
            "Epoch 32 Loss 1.4297\n",
            "Epoch 33 Loss 12.6939\n",
            "Epoch 34 Loss 0.7656\n",
            "Epoch 35 Loss 12.1448\n",
            "Epoch 36 Loss 4.1100\n",
            "Epoch 37 Loss 9.4604\n",
            "Epoch 38 Loss 12.8366\n",
            "Epoch 39 Loss 9.7686\n",
            "Epoch 40 Loss 11.7827\n",
            "Epoch 41 Loss 8.9465\n",
            "Epoch 42 Loss 3.4275\n",
            "Epoch 43 Loss 8.4429\n",
            "Epoch 44 Loss 0.9932\n",
            "Epoch 45 Loss 9.0273\n",
            "Epoch 46 Loss 7.5029\n",
            "Epoch 47 Loss 8.7149\n",
            "Epoch 48 Loss 0.0059\n",
            "Epoch 49 Loss 0.0113\n",
            "Epoch 50 Loss 6.4122\n",
            "Epoch 51 Loss 2.6386\n",
            "Epoch 52 Loss 0.0368\n",
            "Epoch 53 Loss 2.4942\n",
            "Epoch 54 Loss 4.2067\n",
            "Epoch 55 Loss 6.1507\n",
            "Epoch 56 Loss 3.9587\n",
            "Epoch 57 Loss 0.6872\n",
            "Epoch 58 Loss 4.3562\n",
            "Epoch 59 Loss 4.2014\n",
            "Epoch 60 Loss 0.6339\n",
            "Epoch 61 Loss 5.8172\n",
            "Epoch 62 Loss 0.6012\n",
            "Epoch 63 Loss 4.3201\n",
            "Epoch 64 Loss 3.7119\n",
            "Epoch 65 Loss 0.2570\n",
            "Epoch 66 Loss 5.1197\n",
            "Epoch 67 Loss 0.0721\n",
            "Epoch 68 Loss 1.6731\n",
            "Epoch 69 Loss 2.5055\n",
            "Epoch 70 Loss 3.1562\n",
            "Epoch 71 Loss 2.8301\n",
            "Epoch 72 Loss 2.1727\n",
            "Epoch 73 Loss 1.4784\n",
            "Epoch 74 Loss 0.0339\n",
            "Epoch 75 Loss 2.2958\n",
            "Epoch 76 Loss 2.3341\n",
            "Epoch 77 Loss 0.4141\n",
            "Epoch 78 Loss 2.1903\n",
            "Epoch 79 Loss 3.7574\n",
            "Epoch 80 Loss 2.0100\n",
            "Epoch 81 Loss 1.9373\n",
            "Epoch 82 Loss 1.9084\n",
            "Epoch 83 Loss 0.6837\n",
            "Epoch 84 Loss 0.7081\n",
            "Epoch 85 Loss 0.7323\n",
            "Epoch 86 Loss 0.0042\n",
            "Epoch 87 Loss 1.5328\n",
            "Epoch 88 Loss 0.9855\n",
            "Epoch 89 Loss 1.6012\n",
            "Epoch 90 Loss 0.3107\n",
            "Epoch 91 Loss 1.5255\n",
            "Epoch 92 Loss 1.4895\n",
            "Epoch 93 Loss 0.7596\n",
            "Epoch 94 Loss 1.2552\n",
            "Epoch 95 Loss 0.0001\n",
            "Epoch 96 Loss 2.6393\n",
            "Epoch 97 Loss 0.0005\n",
            "Epoch 98 Loss 0.8584\n",
            "Epoch 99 Loss 0.9751\n",
            "Epoch 100 Loss 0.7625\n",
            "Epoch 101 Loss 1.2119\n",
            "Epoch 102 Loss 1.1857\n",
            "Epoch 103 Loss 2.3213\n",
            "Epoch 104 Loss 0.4152\n",
            "Epoch 105 Loss 1.1851\n",
            "Epoch 106 Loss 0.0065\n",
            "Epoch 107 Loss 2.1667\n",
            "Epoch 108 Loss 0.2210\n",
            "Epoch 109 Loss 0.0095\n",
            "Epoch 110 Loss 1.0024\n",
            "Epoch 111 Loss 0.2101\n",
            "Epoch 112 Loss 0.0129\n",
            "Epoch 113 Loss 0.3879\n",
            "Epoch 114 Loss 1.9352\n",
            "Epoch 115 Loss 0.9085\n",
            "Epoch 116 Loss 0.5212\n",
            "Epoch 117 Loss 0.5026\n",
            "Epoch 118 Loss 0.5976\n",
            "Epoch 119 Loss 0.1646\n",
            "Epoch 120 Loss 0.0232\n",
            "Epoch 121 Loss 0.8128\n",
            "Epoch 122 Loss 0.5326\n",
            "Epoch 123 Loss 0.2212\n",
            "Epoch 124 Loss 0.1723\n",
            "Epoch 125 Loss 1.6513\n",
            "Epoch 126 Loss 0.3641\n",
            "Epoch 127 Loss 0.0931\n",
            "Epoch 128 Loss 0.0342\n",
            "Epoch 129 Loss 0.0797\n",
            "Epoch 130 Loss 0.5138\n",
            "Epoch 131 Loss 0.3053\n",
            "Epoch 132 Loss 0.4043\n",
            "Epoch 133 Loss 0.1195\n",
            "Epoch 134 Loss 0.2750\n",
            "Epoch 135 Loss 0.0482\n",
            "Epoch 136 Loss 0.6350\n",
            "Epoch 137 Loss 0.6256\n",
            "Epoch 138 Loss 0.4656\n",
            "Epoch 139 Loss 0.0493\n",
            "Epoch 140 Loss 0.0741\n",
            "Epoch 141 Loss 0.1393\n",
            "Epoch 142 Loss 0.0241\n",
            "Epoch 143 Loss 0.5744\n",
            "Epoch 144 Loss 0.0191\n",
            "Epoch 145 Loss 0.0170\n",
            "Epoch 146 Loss 0.1827\n",
            "Epoch 147 Loss 0.1767\n",
            "Epoch 148 Loss 0.0114\n",
            "Epoch 149 Loss 0.0622\n",
            "Epoch 150 Loss 1.8712\n",
            "Epoch 151 Loss 0.0646\n",
            "Epoch 152 Loss 1.2229\n",
            "Epoch 153 Loss 1.2120\n",
            "Epoch 154 Loss 1.9115\n",
            "Epoch 155 Loss 1.1909\n",
            "Epoch 156 Loss 0.1316\n",
            "Epoch 157 Loss 0.0020\n",
            "Epoch 158 Loss 0.0156\n",
            "Epoch 159 Loss 0.4720\n",
            "Epoch 160 Loss 0.0007\n",
            "Epoch 161 Loss 1.9754\n",
            "Epoch 162 Loss 1.1250\n",
            "Epoch 163 Loss 0.0086\n",
            "Epoch 164 Loss 1.1081\n",
            "Epoch 165 Loss 2.0084\n",
            "Epoch 166 Loss 0.4389\n",
            "Epoch 167 Loss 0.0822\n",
            "Epoch 168 Loss 1.0766\n",
            "Epoch 169 Loss 0.0034\n",
            "Epoch 170 Loss 0.0850\n",
            "Epoch 171 Loss 0.1067\n",
            "Epoch 172 Loss 2.0608\n",
            "Epoch 173 Loss 0.0878\n",
            "Epoch 174 Loss 0.4076\n",
            "Epoch 175 Loss 0.3353\n",
            "Epoch 176 Loss 0.0905\n",
            "Epoch 177 Loss 2.0942\n",
            "Epoch 178 Loss 1.0098\n",
            "Epoch 179 Loss 0.3909\n",
            "Epoch 180 Loss 0.0634\n",
            "Epoch 181 Loss 0.3231\n",
            "Epoch 182 Loss 0.0954\n",
            "Epoch 183 Loss 0.9818\n",
            "Epoch 184 Loss 0.0985\n",
            "Epoch 185 Loss 0.0082\n",
            "Epoch 186 Loss 0.0536\n",
            "Epoch 187 Loss 0.0096\n",
            "Epoch 188 Loss 0.0998\n",
            "Epoch 189 Loss 0.3093\n",
            "Epoch 190 Loss 0.0012\n",
            "Epoch 191 Loss 0.9431\n",
            "Epoch 192 Loss 0.3559\n",
            "Epoch 193 Loss 2.1825\n",
            "Epoch 194 Loss 2.1871\n",
            "Epoch 195 Loss 0.0027\n",
            "Epoch 196 Loss 0.0159\n",
            "Epoch 197 Loss 0.9184\n",
            "Epoch 198 Loss 2.2050\n",
            "Epoch 199 Loss 0.0181\n"
          ]
        }
      ]
    },
    {
      "cell_type": "code",
      "source": [
        "#testing phase\n",
        "print('Final parameters:', weight.item(), bias.item())\n"
      ],
      "metadata": {
        "colab": {
          "base_uri": "https://localhost:8080/"
        },
        "id": "9_g8T9QZuC7_",
        "outputId": "c94ce760-24c8-4085-9dcf-93ea96f7b50d"
      },
      "execution_count": 16,
      "outputs": [
        {
          "output_type": "stream",
          "name": "stdout",
          "text": [
            "Final parameters: 2.670930862426758 4.88258695602417\n"
          ]
        }
      ]
    },
    {
      "cell_type": "code",
      "source": [
        "X_test = np.linspace(0, 9, num = 100, dtype='float32').reshape(-1, 1)\n",
        "X_test_norm = (X_test - np.mean(X_train)) / np.std(X_train)\n",
        "X_test_norm = torch.from_numpy(X_test_norm)\n",
        "y_pred = model(X_test_norm).detach().numpy()\n",
        "fig = plt.figure(figsize=(13, 5))\n",
        "ax = fig.add_subplot(1,2,1)\n",
        "plt.plot(X_train_norm, y_train, 'o', markersize = 10)\n",
        "plt.plot(X_test_norm, y_pred,'--', lw=3)\n",
        "plt.legend(['Training examples', 'Linear reg.'], fontsize = 15)\n",
        "ax.set_xlabel('x', size=15)\n",
        "ax.set_ylabel('y', size = 15)\n",
        "ax.tick_params(axis='both', which ='major', labelsize=15)\n",
        "plt.show()"
      ],
      "metadata": {
        "colab": {
          "base_uri": "https://localhost:8080/",
          "height": 477
        },
        "id": "Dt_ypz9m8Khb",
        "outputId": "60623648-979c-4639-e1d7-02a91cc78d97"
      },
      "execution_count": 17,
      "outputs": [
        {
          "output_type": "display_data",
          "data": {
            "text/plain": [
              "<Figure size 1300x500 with 1 Axes>"
            ],
            "image/png": "[encoded data removed]"
          },
          "metadata": {}
        }
      ]
    },
    {
      "cell_type": "markdown",
      "source": [
        "### Model training via the torch.nn and torch.optim modules\n",
        "\n",
        "torch.nn - provides a set of loss functions<br>\n",
        "torch.optim - supports mostly used optimization algorithms that can be called to update the parameters based on the computed gradients."
      ],
      "metadata": {
        "id": "Jw_11NaeAE4Y"
      }
    },
    {
      "cell_type": "code",
      "source": [
        "import torch.nn as nn\n",
        "loss_fn = nn.MSELoss(reduction ='mean')#loss function for training\n",
        "input_size = 1\n",
        "output_size = 1\n",
        "model = nn.Linear(input_size, output_size)#Linear class for linear layer\n",
        "optimizer = torch.optim.SGD(model.parameters(), lr = learning_rate)"
      ],
      "metadata": {
        "id": "nNtSd41N92fP"
      },
      "execution_count": 19,
      "outputs": []
    },
    {
      "cell_type": "code",
      "source": [
        "#Now, call the step() method of the optimizer to train the model."
      ],
      "metadata": {
        "id": "z18NJS_RyFEF"
      },
      "execution_count": 20,
      "outputs": []
    },
    {
      "cell_type": "code",
      "source": [
        "for epoch in range(num_epochs):\n",
        "  for x_batch, y_batch in train_dl:\n",
        "    #1. generate predictions\n",
        "    pred = model(x_batch)[:, 0]\n",
        "    #2. calculate loss\n",
        "    loss = loss_fn(pred, y_batch)\n",
        "    #3. compute gradients\n",
        "    loss.backward()\n",
        "    #4. update paprameters using gradients\n",
        "    optimizer.step()\n",
        "    #5. Reset the gradients to zero\n",
        "    optimizer.zero_grad()\n",
        "\n",
        "  if epoch % log_epochs==0:\n",
        "    print(f'Epoch {epoch} Loss {loss.item():.4f}')"
      ],
      "metadata": {
        "colab": {
          "base_uri": "https://localhost:8080/"
        },
        "id": "mPcRxLQoyS6C",
        "outputId": "afe9f4b2-5042-4197-ba02-2ea8b407c852"
      },
      "execution_count": 21,
      "outputs": [
        {
          "output_type": "stream",
          "name": "stdout",
          "text": [
            "Epoch 0 Loss 24.6684\n",
            "Epoch 10 Loss 29.1377\n",
            "Epoch 20 Loss 20.9207\n",
            "Epoch 30 Loss 0.1257\n",
            "Epoch 40 Loss 12.4922\n",
            "Epoch 50 Loss 1.7845\n",
            "Epoch 60 Loss 7.6425\n",
            "Epoch 70 Loss 2.5606\n",
            "Epoch 80 Loss 0.0157\n",
            "Epoch 90 Loss 0.7548\n",
            "Epoch 100 Loss 0.8412\n",
            "Epoch 110 Loss 0.4923\n",
            "Epoch 120 Loss 0.0823\n",
            "Epoch 130 Loss 0.0794\n",
            "Epoch 140 Loss 0.0891\n",
            "Epoch 150 Loss 0.0973\n",
            "Epoch 160 Loss 0.1043\n",
            "Epoch 170 Loss 0.1103\n",
            "Epoch 180 Loss 0.0009\n",
            "Epoch 190 Loss 0.0764\n"
          ]
        }
      ]
    },
    {
      "cell_type": "code",
      "source": [
        "print('Final parameters: ', model.weight.item(), model.bias.item())"
      ],
      "metadata": {
        "colab": {
          "base_uri": "https://localhost:8080/"
        },
        "id": "9eBgrf0UzTPX",
        "outputId": "d30e7cb7-8454-4416-b0f9-d5d69cbd5c86"
      },
      "execution_count": 22,
      "outputs": [
        {
          "output_type": "stream",
          "name": "stdout",
          "text": [
            "Final parameters:  2.6496422290802 4.87706995010376\n"
          ]
        }
      ]
    },
    {
      "cell_type": "markdown",
      "source": [
        "### Building a multilayer perceptron for classifying flowers in the Iris dataset"
      ],
      "metadata": {
        "id": "Pg8r3F_30teU"
      }
    },
    {
      "cell_type": "code",
      "source": [
        "#building a two-layer perceptron using the torch.nn module"
      ],
      "metadata": {
        "id": "xWNZzaD0zbye"
      },
      "execution_count": 23,
      "outputs": []
    },
    {
      "cell_type": "code",
      "source": [
        "from sklearn.datasets import load_iris\n",
        "from sklearn.model_selection import train_test_split\n",
        "iris = load_iris()#to load the dataset"
      ],
      "metadata": {
        "id": "iOL9llzM9NIR"
      },
      "execution_count": 43,
      "outputs": []
    },
    {
      "cell_type": "code",
      "source": [
        "X = iris['data']\n",
        "y = iris['target']\n",
        "X_train, X_test, y_train, y_test = train_test_split(X, y, test_size = 1./3, random_state = 1)"
      ],
      "metadata": {
        "id": "MQQ3qIua9jTH"
      },
      "execution_count": 44,
      "outputs": []
    },
    {
      "cell_type": "code",
      "source": [
        "#normalizing the dataset\n",
        "X_train_norm = (X_train - np.mean(X_train)) / np.std(X_train)\n",
        "X_train_norm = torch.from_numpy(X_train_norm).float()\n",
        "y_train = torch.from_numpy(y_train)\n",
        "train_ds = TensorDataset(X_train_norm, y_train)\n",
        "torch.manual_seed(1)\n",
        "batch_size = 2\n",
        "train_dl = DataLoader(train_ds, batch_size, shuffle=True)"
      ],
      "metadata": {
        "id": "evu7o5Wm94Ip"
      },
      "execution_count": 45,
      "outputs": []
    },
    {
      "cell_type": "markdown",
      "source": [
        "list of layers available at: https://pytorch.org/docs/stable/nn.html"
      ],
      "metadata": {
        "id": "VKo-4LY7AWDO"
      }
    },
    {
      "cell_type": "code",
      "source": [
        "#linear layer = fully connected layer or dense layer\n",
        "# representation = f(w *x + b)\n",
        "# f is activation function\n",
        "# w, b = weight and bias matrix\n",
        "# x = tensor of features\n",
        "# dimensionality = rank and shape\n",
        "# In case of iris dataset\n",
        "# no. of features = x = 4\n",
        "# So no. of input neurons = 4\n",
        "# no. of layers considered = 2 , total = 3 ( input layer, hidden layer, output layer)\n",
        "# no. of neurons in hidden layer = 16\n",
        "# no. of neurons in output layer = 3( 3 classes for classification)\n",
        "# implementing this now"
      ],
      "metadata": {
        "id": "_ZOKG-BVAr4M"
      },
      "execution_count": 46,
      "outputs": []
    },
    {
      "cell_type": "code",
      "source": [
        "class Model(nn.Module):\n",
        "  def __init__(self, input_size, hidden_size, output_size):\n",
        "    super().__init__()\n",
        "    self.layer1 = nn.Linear(input_size, hidden_size)\n",
        "    self.layer2 = nn.Linear(hidden_size, output_size)\n",
        "\n",
        "  def forward(self, x):\n",
        "    x = self.layer1(x)\n",
        "    x = nn.Sigmoid()(x)\n",
        "    x = self.layer2(x)\n",
        "    x = nn.Softmax(dim=1)(x)\n",
        "    return x"
      ],
      "metadata": {
        "id": "PkYBAncaCIQD"
      },
      "execution_count": 47,
      "outputs": []
    },
    {
      "cell_type": "code",
      "source": [
        "input_size = X_train_norm.shape[1]\n",
        "hidden_size = 16\n",
        "output_size = 3\n",
        "model = Model(input_size, hidden_size, output_size)\n",
        "#Sigmoid activation function has been used for first layer\n",
        "#Softmax activation function has been used for second layer"
      ],
      "metadata": {
        "id": "xaRtEuQOC6Qx"
      },
      "execution_count": 48,
      "outputs": []
    },
    {
      "cell_type": "code",
      "source": [
        "learning_rate = 0.001\n",
        "loss_fn = nn.CrossEntropyLoss()\n",
        "optimizer = torch.optim.Adam(model.parameters(), lr = learning_rate)"
      ],
      "metadata": {
        "id": "zd-zX2EqD7qJ"
      },
      "execution_count": 49,
      "outputs": []
    },
    {
      "cell_type": "code",
      "source": [
        "#training\n",
        "num_epochs = 100\n",
        "loss_hist = [0] * num_epochs\n",
        "accuracy_hist = [0] * num_epochs\n",
        "for epoch in range(num_epochs):\n",
        "  for x_batch, y_batch in train_dl:\n",
        "    pred = model(x_batch)\n",
        "    loss = loss_fn(pred, y_batch)\n",
        "    loss.backward()\n",
        "    optimizer.step()\n",
        "    optimizer.zero_grad()\n",
        "    loss_hist[epoch] += loss.item()*y_batch.size(0)\n",
        "    is_correct = (torch.argmax(pred, dim=1) == y_batch).float()\n",
        "    accuracy_hist[epoch] += is_correct.mean()\n",
        "  loss_hist[epoch] /= len(train_dl.dataset)\n",
        "  accuracy_hist[epoch] /= len(train_dl.dataset)"
      ],
      "metadata": {
        "id": "ThVqC0EmEsAY"
      },
      "execution_count": 50,
      "outputs": []
    },
    {
      "cell_type": "code",
      "source": [
        "#plotting\n",
        "fig = plt.figure(figsize =(12, 5))\n",
        "ax = fig.add_subplot(1, 2, 1)\n",
        "ax.plot(loss_hist, lw = 3)\n",
        "ax.set_title('Training loss', size=15)\n",
        "ax.set_xlabel('Epoch', size = 15)\n",
        "ax.tick_params(axis='both', which='major', labelsize = 15)\n",
        "ax = fig.add_subplot(1,2,2)\n",
        "ax.plot(accuracy_hist, lw = 3)\n",
        "ax.set_title('Training accuracy', size =15)\n",
        "ax.set_xlabel('Epoch', size = 15)\n",
        "ax.tick_params(axis = 'both', which = 'major', labelsize=15)\n",
        "plt.show()"
      ],
      "metadata": {
        "colab": {
          "base_uri": "https://localhost:8080/",
          "height": 501
        },
        "id": "p4dfCT8UGIch",
        "outputId": "79951d52-80bd-4b24-8ba7-05c675889b51"
      },
      "execution_count": 51,
      "outputs": [
        {
          "output_type": "display_data",
          "data": {
            "text/plain": [
              "<Figure size 1200x500 with 2 Axes>"
            ],
            "image/png": "[encoded data removed]"
          },
          "metadata": {}
        }
      ]
    },
    {
      "cell_type": "markdown",
      "source": [
        "#### Evaluating the trained model on the test dataset\n"
      ],
      "metadata": {
        "id": "K3dtbgyZKsRk"
      }
    },
    {
      "cell_type": "code",
      "source": [
        "X_test_norm = (X_test - np.mean(X_train)) / np.std(X_train)\n",
        "X_test_norm = torch.from_numpy(X_test_norm).float()\n",
        "y_test = torch.from_numpy(y_test)\n",
        "pred_test = model(X_test_norm)\n",
        "correct = (torch.argmax(pred_test, dim =1) == y_test).float()\n",
        "accuracy = correct.mean()\n",
        "print(f'Test Accuracy: {accuracy:.4f}' )\n"
      ],
      "metadata": {
        "colab": {
          "base_uri": "https://localhost:8080/"
        },
        "id": "6RNVETqmKr6a",
        "outputId": "99fd88bc-e743-423a-8914-fe71d02f64e8"
      },
      "execution_count": 53,
      "outputs": [
        {
          "output_type": "stream",
          "name": "stdout",
          "text": [
            "Test Accuracy: 0.9800\n"
          ]
        }
      ]
    },
    {
      "cell_type": "markdown",
      "source": [
        "#### Saving and reloading the trained model"
      ],
      "metadata": {
        "id": "cGc_p4pHMgjI"
      }
    },
    {
      "cell_type": "code",
      "source": [
        "#trained models can be saved on disk for future use. This can be done as follows\n",
        "path = \"/content/drive/MyDrive/iris_classifier.pt\"\n",
        "torch.save(model, path)"
      ],
      "metadata": {
        "id": "ELxB9Th_Kgze"
      },
      "execution_count": 54,
      "outputs": []
    },
    {
      "cell_type": "code",
      "source": [
        "#save(model) saves model architecture and all the learned parameters.\n",
        "#extension to save is 'pt' or 'pth'"
      ],
      "metadata": {
        "id": "gOhE-bfBM-A1"
      },
      "execution_count": 55,
      "outputs": []
    },
    {
      "cell_type": "code",
      "source": [
        "#reloading the saved model\n",
        "model_new = torch.load(path)"
      ],
      "metadata": {
        "id": "IyPLgiHVNPEx"
      },
      "execution_count": 56,
      "outputs": []
    },
    {
      "cell_type": "code",
      "source": [
        "#to verify the model architecture\n",
        "model_new.eval()"
      ],
      "metadata": {
        "colab": {
          "base_uri": "https://localhost:8080/"
        },
        "id": "6VulWgsuNVnw",
        "outputId": "5c3ca196-770c-4e19-d3eb-86f6bf7f540b"
      },
      "execution_count": 57,
      "outputs": [
        {
          "output_type": "execute_result",
          "data": {
            "text/plain": [
              "Model(\n",
              "  (layer1): Linear(in_features=4, out_features=16, bias=True)\n",
              "  (layer2): Linear(in_features=16, out_features=3, bias=True)\n",
              ")"
            ]
          },
          "metadata": {},
          "execution_count": 57
        }
      ]
    },
    {
      "cell_type": "code",
      "source": [
        "#to evaluate the reloaded model\n",
        "pred_test = model_new(X_test_norm)\n",
        "correct = (torch.argmax(pred_test, dim=1)== y_test).float()\n",
        "accuracy = correct.mean()\n",
        "print(f'Test Acc: {accuracy:.4f}')"
      ],
      "metadata": {
        "colab": {
          "base_uri": "https://localhost:8080/"
        },
        "id": "ZHngKrAANb-l",
        "outputId": "6bcba0d0-bd15-4617-981d-b65eac47d125"
      },
      "execution_count": 58,
      "outputs": [
        {
          "output_type": "stream",
          "name": "stdout",
          "text": [
            "Test Acc: 0.9800\n"
          ]
        }
      ]
    },
    {
      "cell_type": "code",
      "source": [
        "#to save only the learned parameters\n",
        "path = \"/content/drive/MyDrive/iris_classifier_state.pt\"\n",
        "torch.save(model.state_dict(),path)\n"
      ],
      "metadata": {
        "id": "WYtRJLWUN0PS"
      },
      "execution_count": 59,
      "outputs": []
    },
    {
      "cell_type": "code",
      "source": [
        "#to reload the saved parameters, we first need to reconstruct the model as we did before, then feed the loaded parameters to the model\n",
        "model_new = Model(input_size, hidden_size, output_size)\n",
        "model_new.load_state_dict(torch.load(path))"
      ],
      "metadata": {
        "colab": {
          "base_uri": "https://localhost:8080/"
        },
        "id": "Shoo-CDpOHRA",
        "outputId": "b7fc12e3-7fc1-47d6-acf3-6b8ad06448b4"
      },
      "execution_count": 61,
      "outputs": [
        {
          "output_type": "execute_result",
          "data": {
            "text/plain": [
              "<All keys matched successfully>"
            ]
          },
          "metadata": {},
          "execution_count": 61
        }
      ]
    },
    {
      "cell_type": "code",
      "source": [],
      "metadata": {
        "id": "UY-W2xmQOeqf"
      },
      "execution_count": null,
      "outputs": []
    }
  ]
}